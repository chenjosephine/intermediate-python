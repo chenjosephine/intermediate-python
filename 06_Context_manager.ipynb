{
 "cells": [
  {
   "cell_type": "markdown",
   "id": "0598179c",
   "metadata": {},
   "source": [
    "#### Write a function which takes file name as parameter and returns the number of lines in the file. Close the file in the end."
   ]
  },
  {
   "cell_type": "code",
   "execution_count": 1,
   "id": "0ddbc5d0",
   "metadata": {},
   "outputs": [
    {
     "data": {
      "text/plain": [
       "8"
      ]
     },
     "execution_count": 1,
     "metadata": {},
     "output_type": "execute_result"
    }
   ],
   "source": [
    "def count_lines(file_name):\n",
    "    try:\n",
    "        file_obj = open(file_name)\n",
    "        return len(file_obj.readlines())\n",
    "    finally:\n",
    "        file_obj.close()\n",
    "        \n",
    "#-----------------------------------\n",
    "\n",
    "count_lines('fruits.txt')"
   ]
  },
  {
   "cell_type": "markdown",
   "id": "7bde8301",
   "metadata": {},
   "source": [
    "#### Using 'with' statement\n",
    "- We don't have to close the resources explicitly\n",
    "- They get closed after the execution of the with block (close() method gets called automatically)\n",
    "- Alternate to try-finally pattern"
   ]
  },
  {
   "cell_type": "code",
   "execution_count": 2,
   "id": "50e0bf18",
   "metadata": {},
   "outputs": [
    {
     "data": {
      "text/plain": [
       "8"
      ]
     },
     "execution_count": 2,
     "metadata": {},
     "output_type": "execute_result"
    }
   ],
   "source": [
    "def count_lines(file_name):\n",
    "    with open(file_name) as file_obj:\n",
    "        return len(file_obj.readlines())\n",
    "    \n",
    "#----------------------------------------\n",
    "\n",
    "count_lines('fruits.txt')"
   ]
  },
  {
   "cell_type": "markdown",
   "id": "d87a8bd3",
   "metadata": {},
   "source": [
    "#### Context manager\n",
    "- is used for running code before and after execution of the 'with' block\n",
    "- Context manager protolcol consists of \\_\\_enter\\_\\_() and \\_\\_exit\\_\\_() methods\n",
    "- These methods are invoked on an object when it is used in 'with' block\n",
    "- \\_\\_enter\\_\\_() is used for acquiring resources and \\_\\_exit\\_\\_() is used to clean up of the resources"
   ]
  },
  {
   "cell_type": "code",
   "execution_count": 19,
   "id": "b4c9de14",
   "metadata": {},
   "outputs": [],
   "source": [
    "class Log:\n",
    "    \n",
    "    def __init__(self, filename):\n",
    "        self.filename = filename\n",
    "        self.file_obj = None\n",
    "        \n",
    "    def logging(self, text):\n",
    "        self.file_obj.write(text + '\\n')\n",
    "    \n",
    "    def __enter__(self):\n",
    "        print('__enter__ called')\n",
    "        self.file_obj = open(self.filename, 'w')\n",
    "        return self\n",
    "                            \n",
    "    def __exit__(self, exception_type, exception_msg, tb):\n",
    "        print('__exit__ called')\n",
    "        \n",
    "        if exception_type != None:\n",
    "            self.file_obj.write(str(exception_type) + '\\n')\n",
    "            self.file_obj.write(str(exception_msg) + '\\n')        \n",
    "            import traceback\n",
    "            self.file_obj.write(traceback.format_exc())\n",
    "            \n",
    "        self.file_obj.close()"
   ]
  },
  {
   "cell_type": "code",
   "execution_count": 21,
   "id": "9c4a0773",
   "metadata": {},
   "outputs": [
    {
     "name": "stdout",
     "output_type": "stream",
     "text": [
      "__enter__ called\n",
      "__exit__ called\n"
     ]
    }
   ],
   "source": [
    "with Log('output.txt') as log_obj:\n",
    "    log_obj.logging('This is log line 1')    \n",
    "    log_obj.logging('This is log line 2')\n",
    "    #open('foo.xml')\n",
    "    log_obj.logging('This is log line 3')"
   ]
  },
  {
   "cell_type": "code",
   "execution_count": 22,
   "id": "c4dd72ba",
   "metadata": {},
   "outputs": [],
   "source": [
    "class Something:\n",
    "    def __init__(self):\n",
    "        print('Object created')\n",
    "        \n",
    "    def do_something(self):\n",
    "        print('Do something with the Object')        \n",
    "\n",
    "    def close(self):\n",
    "        print('Close called --> resource released')        "
   ]
  },
  {
   "cell_type": "code",
   "execution_count": 23,
   "id": "dbaef3dc",
   "metadata": {},
   "outputs": [
    {
     "name": "stdout",
     "output_type": "stream",
     "text": [
      "Object created\n",
      "Do something with the Object\n",
      "Close called --> resource released\n"
     ]
    }
   ],
   "source": [
    "try:\n",
    "    obj = Something()\n",
    "    obj.do_something()\n",
    "finally:\n",
    "    obj.close()   # explicit call to the close method"
   ]
  },
  {
   "cell_type": "code",
   "execution_count": 25,
   "id": "c599cc46",
   "metadata": {},
   "outputs": [
    {
     "name": "stdout",
     "output_type": "stream",
     "text": [
      "Object created\n",
      "Do something with the Object\n",
      "Close called --> resource released\n"
     ]
    }
   ],
   "source": [
    "from contextlib import closing  # will take care of calling close() method upon completion of the 'with' block\n",
    "\n",
    "with closing(Something()) as obj:\n",
    "    obj.do_something()"
   ]
  },
  {
   "cell_type": "code",
   "execution_count": null,
   "id": "303e39ce",
   "metadata": {},
   "outputs": [],
   "source": []
  }
 ],
 "metadata": {
  "kernelspec": {
   "display_name": "Python 3 (ipykernel)",
   "language": "python",
   "name": "python3"
  },
  "language_info": {
   "codemirror_mode": {
    "name": "ipython",
    "version": 3
   },
   "file_extension": ".py",
   "mimetype": "text/x-python",
   "name": "python",
   "nbconvert_exporter": "python",
   "pygments_lexer": "ipython3",
   "version": "3.11.0"
  }
 },
 "nbformat": 4,
 "nbformat_minor": 5
}
