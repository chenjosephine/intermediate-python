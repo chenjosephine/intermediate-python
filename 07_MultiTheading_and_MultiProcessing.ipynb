{
 "cells": [
  {
   "cell_type": "code",
   "execution_count": 3,
   "id": "927a7b04",
   "metadata": {},
   "outputs": [],
   "source": [
    "import os\n",
    "import time\n",
    "import threading"
   ]
  },
  {
   "cell_type": "markdown",
   "id": "d55586ec",
   "metadata": {},
   "source": [
    "#### Current Thread"
   ]
  },
  {
   "cell_type": "code",
   "execution_count": null,
   "id": "500949b7",
   "metadata": {},
   "outputs": [],
   "source": [
    "print('Program Enter')\n",
    "print(f'Process id - {os.getpid()}')\n",
    "print(f'Current Thread name - {threading.current_thread().name}')\n",
    "print('Sleeping...')\n",
    "time.sleep(5)\n",
    "print('Wake up...')\n",
    "threading.current_thread().name = 'MyThread'\n",
    "print(f'Current Thread name - {threading.current_thread().name}')\n",
    "print('Program Exit')"
   ]
  },
  {
   "cell_type": "markdown",
   "id": "3d765ccf",
   "metadata": {},
   "source": [
    "#### Create a new Thread\n",
    "- Create an instance of Thread class and set a target function for it to run\n",
    "- Write a sub-class of the Thread class, override the run() method, create instance of the sub-class"
   ]
  },
  {
   "cell_type": "code",
   "execution_count": 55,
   "id": "78c8fa16",
   "metadata": {},
   "outputs": [],
   "source": [
    "def run():\n",
    "    for i in range(1,6):\n",
    "        print(f'{i} --> Thread name -> {threading.current_thread().name}, Process id -> {os.getpid()}')\n",
    "        time.sleep(0.1)"
   ]
  },
  {
   "cell_type": "code",
   "execution_count": 56,
   "id": "9bb53453",
   "metadata": {},
   "outputs": [
    {
     "name": "stdout",
     "output_type": "stream",
     "text": [
      "Main Thread Enter, Process id -> 16646\n",
      "1 --> Thread name -> FirstThread, Process id -> 16646\n",
      "t1 is alive -> True\n",
      "2 --> Thread name -> FirstThread, Process id -> 16646\n",
      "3 --> Thread name -> FirstThread, Process id -> 16646\n",
      "4 --> Thread name -> FirstThread, Process id -> 16646\n",
      "5 --> Thread name -> FirstThread, Process id -> 16646\n",
      "t1 is alive -> False\n",
      "Main Thread Exit\n"
     ]
    }
   ],
   "source": [
    "print(f'Main Thread Enter, Process id -> {os.getpid()}')\n",
    "\n",
    "t1 = threading.Thread(target=run)\n",
    "t1.name='FirstThread'\n",
    "t1.start()\n",
    "\n",
    "print(f't1 is alive -> {t1.is_alive()}')\n",
    "\n",
    "t1.join() # current thread (main thread) goes to wait state, gets notified when t1 is dead \n",
    "\n",
    "print(f't1 is alive -> {t1.is_alive()}')  # Not alive\n",
    "\n",
    "print('Main Thread Exit')"
   ]
  },
  {
   "cell_type": "code",
   "execution_count": 57,
   "id": "b87d26fd",
   "metadata": {},
   "outputs": [
    {
     "name": "stdout",
     "output_type": "stream",
     "text": [
      "Main Thread Enter, Process id -> 16646\n",
      "1 --> Thread name -> Thread-01, Process id -> 16646\n",
      "1 --> Thread name -> Thread-02, Process id -> 16646\n",
      "2 --> Thread name -> Thread-01, Process id -> 16646\n",
      "2 --> Thread name -> Thread-02, Process id -> 16646\n",
      "3 --> Thread name -> Thread-01, Process id -> 16646\n",
      "3 --> Thread name -> Thread-02, Process id -> 16646\n",
      "4 --> Thread name -> Thread-01, Process id -> 16646\n",
      "4 --> Thread name -> Thread-02, Process id -> 16646\n",
      "5 --> Thread name -> Thread-01, Process id -> 16646\n",
      "5 --> Thread name -> Thread-02, Process id -> 16646\n",
      "Main Thread Exit\n"
     ]
    }
   ],
   "source": [
    "print(f'Main Thread Enter, Process id -> {os.getpid()}')\n",
    "\n",
    "t1 = threading.Thread(target=run, name='Thread-01')\n",
    "t2 = threading.Thread(target=run, name='Thread-02')\n",
    "\n",
    "t1.start()\n",
    "t2.start()\n",
    "\n",
    "t1.join() # current thread (main thread) goes to wait state, gets notified when t1 is dead \n",
    "t2.join()\n",
    "\n",
    "print('Main Thread Exit')"
   ]
  },
  {
   "cell_type": "markdown",
   "id": "ffe3fe6c",
   "metadata": {},
   "source": [
    "#### Create a Thread whose target function accepts numbers (no limit), adds them and display the sum "
   ]
  },
  {
   "cell_type": "code",
   "execution_count": null,
   "id": "f19af98d",
   "metadata": {},
   "outputs": [],
   "source": [
    "def add(*args):\n",
    "    print(f'Thread name -> {threading.current_thread().name}, Sum -> {sum(args)}')\n",
    "\n",
    "#-----------------------------------\n",
    "\n",
    "t1 = threading.Thread(target=add, name='First', args=(1,2,3,4,5))\n",
    "t2 = threading.Thread(target=add, name='Second', args=(11,22,33))\n",
    "\n",
    "t1.start()\n",
    "t2.start()"
   ]
  },
  {
   "cell_type": "markdown",
   "id": "2f83dcc7",
   "metadata": {},
   "source": [
    "#### Create a Thread by Inheritence\n",
    "1. Write a sub-class of the Thread class\n",
    "2. Default target method for such threads is the 'run()' method, hence we override this method\n",
    "3. In case the target method is any other method, we explicitly set the attribute (t.run)\n",
    "4. Arguments are passed through the attribute t.args and accessed using self.args"
   ]
  },
  {
   "cell_type": "code",
   "execution_count": null,
   "id": "cdd0414e",
   "metadata": {},
   "outputs": [],
   "source": [
    "class MyThread(threading.Thread):\n",
    "    def do_something(self):\n",
    "        for i in range(1,6):\n",
    "            print(f'{i} --> Thread name -> {threading.current_thread().name}, Process id -> {os.getpid()}')\n",
    "            os.sched_yield()  # Running --> Ready  (Give up the CPU)\n",
    "            #time.sleep(0)    # Running --> Sleep --> Ready"
   ]
  },
  {
   "cell_type": "code",
   "execution_count": null,
   "id": "deb1772e",
   "metadata": {},
   "outputs": [],
   "source": [
    "t1 = MyThread()\n",
    "t1.name = 'First-Thread'\n",
    "t1.run = t1.do_something  # (in case the method is not run)\n",
    "t1.start()"
   ]
  },
  {
   "cell_type": "markdown",
   "id": "549999e5",
   "metadata": {},
   "source": [
    "#### Write a sub-class of Thread, name it as AddThread\n",
    "- The target method would sum the args and display the same"
   ]
  },
  {
   "cell_type": "code",
   "execution_count": null,
   "id": "b12195d1",
   "metadata": {},
   "outputs": [],
   "source": [
    "class AddThread(threading.Thread):\n",
    "    def run(self):\n",
    "        print(f'{threading.current_thread().name} --> Sum: {sum(self.args)}')"
   ]
  },
  {
   "cell_type": "code",
   "execution_count": null,
   "id": "ebef1e9e",
   "metadata": {},
   "outputs": [],
   "source": [
    "t1 = AddThread()\n",
    "t1.name = 'Thread-001'\n",
    "t1.args = (1,2,3,4,5)\n",
    "\n",
    "t2 = AddThread()\n",
    "t2.name = 'Thread-002'\n",
    "t2.args = (10,20,30)\n",
    "\n",
    "t1.start()\n",
    "t2.start()"
   ]
  },
  {
   "cell_type": "markdown",
   "id": "b9b84f3f",
   "metadata": {},
   "source": [
    "#### Daemon threads\n",
    "- These are the threads which run the background\n",
    "- Purpose of the daemon threads is to give service to the application\n",
    "- If daemon threads are the only threads running, then the Runtime would quit\n",
    "- By default a thread is not daemon unless we set it as daemon thread (t.daemon = True)"
   ]
  },
  {
   "cell_type": "code",
   "execution_count": null,
   "id": "938b90f0",
   "metadata": {},
   "outputs": [],
   "source": [
    "import time\n",
    "import threading\n",
    "\n",
    "def daemon_task():\n",
    "    while True:\n",
    "        print('\\tThis is Daemon')\n",
    "        time.sleep(1)\n",
    "\n",
    "t1 = threading.Thread(target=daemon_task, daemon=True)\n",
    "t1.start()\n",
    "\n",
    "for i in range(1,11):\n",
    "    print(f'{i} --> This is Main')\n",
    "    time.sleep(1)"
   ]
  },
  {
   "cell_type": "code",
   "execution_count": 2,
   "id": "a8447610",
   "metadata": {},
   "outputs": [
    {
     "name": "stdout",
     "output_type": "stream",
     "text": [
      "\tThis is Daemon\n",
      "1 --> This is Main\n",
      "\tThis is Daemon\n",
      "2 --> This is Main\n",
      "3 --> This is Main\n",
      "\tThis is Daemon\n",
      "4 --> This is Main\n",
      "\tThis is Daemon\n",
      "5 --> This is Main\n",
      "\tThis is Daemon\n",
      "6 --> This is Main\n",
      "\tThis is Daemon\n",
      "7 --> This is Main\n",
      "\tThis is Daemon\n",
      "8 --> This is Main\n",
      "\tThis is Daemon\n",
      "9 --> This is Main\n",
      "\tThis is Daemon\n",
      "10 --> This is Main\n",
      "\tThis is Daemon\n"
     ]
    }
   ],
   "source": [
    "!python daemon_demo.py"
   ]
  },
  {
   "cell_type": "markdown",
   "id": "49c4cd25",
   "metadata": {},
   "source": [
    "#### Thread assignment\n",
    "- Write a class named Resource\n",
    "- It will have an instance field named 'data', initilize it to 0 \n",
    "- It will have an instance method named 'do_something'\n",
    "- do_something() method will increment data by 1, then display the name of the curent thread and current value of the data \n",
    "- The resource class method 'do_something' will be the target method for a Thread"
   ]
  },
  {
   "cell_type": "markdown",
   "id": "deca0772",
   "metadata": {},
   "source": [
    "#### Non Thread-safe Resource (can result in Race condition)"
   ]
  },
  {
   "cell_type": "code",
   "execution_count": 41,
   "id": "eef31a4c",
   "metadata": {},
   "outputs": [],
   "source": [
    "class Resource:\n",
    "    def __init__(self):\n",
    "        self.data = 0\n",
    "        \n",
    "    def do_something(self):\n",
    "        self.data += 1\n",
    "        for i in range(1000000):\n",
    "            pass\n",
    "        print(f'{threading.current_thread().name} --> {self.data}')    "
   ]
  },
  {
   "cell_type": "markdown",
   "id": "fdf093dd",
   "metadata": {},
   "source": [
    "#### Thread-safe Resource (safely used in Multi Threaded environment)"
   ]
  },
  {
   "cell_type": "code",
   "execution_count": 48,
   "id": "ab61019c",
   "metadata": {},
   "outputs": [],
   "source": [
    "class Resource:\n",
    "    def __init__(self):\n",
    "        self.data = 0\n",
    "        self.lock = threading.Lock()\n",
    "        \n",
    "    def do_something(self):\n",
    "        self.lock.acquire()\n",
    "        self.data += 1\n",
    "        for i in range(1000000):\n",
    "            pass\n",
    "        print(f'{threading.current_thread().name} --> {self.data}')\n",
    "        self.lock.release()"
   ]
  },
  {
   "cell_type": "code",
   "execution_count": 50,
   "id": "30c76239",
   "metadata": {},
   "outputs": [],
   "source": [
    "class Resource2:\n",
    "    def __init__(self):\n",
    "        self.data = 0\n",
    "        self.lock = threading.Lock()\n",
    "        \n",
    "    def do_something(self):\n",
    "        with self.lock:\n",
    "            self.data += 1\n",
    "            for i in range(1000000):\n",
    "                pass\n",
    "            print(f'{threading.current_thread().name} --> {self.data}')"
   ]
  },
  {
   "cell_type": "code",
   "execution_count": 52,
   "id": "664d6617",
   "metadata": {},
   "outputs": [
    {
     "name": "stdout",
     "output_type": "stream",
     "text": [
      "Thread-01 --> 1\n",
      "Thread-02 --> 2\n",
      "Thread-03 --> 3\n",
      "Thread-04 --> 4\n",
      "Thread-05 --> 5\n"
     ]
    }
   ],
   "source": [
    "r = Resource2()\n",
    "\n",
    "for i in range(1,6):\n",
    "    t1 = threading.Thread(target = r.do_something, name=f'Thread-0{i}')\n",
    "    t1.start()"
   ]
  },
  {
   "cell_type": "markdown",
   "id": "fd177790",
   "metadata": {},
   "source": [
    "#### MultiProcessing\n",
    "- MultiThreading --> Concurrent processing (uses only 1 CPU which is shared by all the Threads) \n",
    "- MultiProcessing --> Parallel processing (uses as many CPUs as available, each task runs in a separate process) "
   ]
  },
  {
   "cell_type": "code",
   "execution_count": 58,
   "id": "c4169c85",
   "metadata": {},
   "outputs": [],
   "source": [
    "import os\n",
    "import multiprocessing"
   ]
  },
  {
   "cell_type": "code",
   "execution_count": 59,
   "id": "c29886b7",
   "metadata": {
    "scrolled": true
   },
   "outputs": [
    {
     "name": "stdout",
     "output_type": "stream",
     "text": [
      "Available Processors:  8\n"
     ]
    }
   ],
   "source": [
    "print('Available Processors: ', os.cpu_count())"
   ]
  },
  {
   "cell_type": "code",
   "execution_count": 65,
   "id": "458786c5",
   "metadata": {},
   "outputs": [
    {
     "name": "stdout",
     "output_type": "stream",
     "text": [
      "Main Process id: 16646\n",
      "Worker-1, Process id: 43018\n",
      "Worker-2, Process id: 43021\n",
      "\n",
      "Before Join\n",
      "Worker-1 is alive: True\n",
      "Worker-2 is alive: True\n",
      "\n",
      "After Join\n",
      "Worker-1 is alive: False\n",
      "Worker-2 is alive: False\n",
      "\n",
      "Main Process exit\n"
     ]
    }
   ],
   "source": [
    "def worker1():\n",
    "    print(f'Worker-1, Process id: {os.getpid()}')\n",
    "\n",
    "def worker2():\n",
    "    print(f'Worker-2, Process id: {os.getpid()}')\n",
    "#------------------------------------------------------\n",
    "\n",
    "print(f'Main Process id: {os.getpid()}')    \n",
    "\n",
    "p1 = multiprocessing.Process(target=worker1)\n",
    "p2 = multiprocessing.Process(target=worker2)\n",
    "\n",
    "p1.start()\n",
    "p2.start()\n",
    "    \n",
    "\n",
    "print('\\nBefore Join')\n",
    "print('Worker-1 is alive:', p1.is_alive())    \n",
    "print('Worker-2 is alive:', p2.is_alive())    \n",
    "\n",
    "p1.join()\n",
    "p2.join()\n",
    "    \n",
    "print('\\nAfter Join')\n",
    "print('Worker-1 is alive:', p1.is_alive())    \n",
    "print('Worker-2 is alive:', p2.is_alive())        \n",
    "    \n",
    "print('\\nMain Process exit')"
   ]
  },
  {
   "cell_type": "markdown",
   "id": "8dc63b64",
   "metadata": {},
   "source": [
    "#### Create 2 Process objects\n",
    "- One will square a given number and display the result (given as a parameter)\n",
    "- Other will cube a given number and display the result (given as a parameter)\n",
    "- Parameters are passed as args (similar to args concept in threading)\n",
    "- Make sure that only one Process prints at any given time"
   ]
  },
  {
   "cell_type": "code",
   "execution_count": 71,
   "id": "30773bf9",
   "metadata": {},
   "outputs": [
    {
     "name": "stdout",
     "output_type": "stream",
     "text": [
      "Main Process id: 16646\n",
      "Square Process id: 47657\n",
      "Square of 10 is 100\n",
      "Cube Process id: 47658\n",
      "Cube of 10 is 1000\n",
      "Main Process exit\n"
     ]
    }
   ],
   "source": [
    "import os\n",
    "import multiprocessing\n",
    "\n",
    "def square(lock,num):\n",
    "    lock.acquire()\n",
    "    print(f'Square Process id: {os.getpid()}')\n",
    "    print(f'Square of {num} is {num ** 2}')\n",
    "    lock.release()\n",
    "\n",
    "def cube(lock,num):\n",
    "    with lock:\n",
    "        print(f'Cube Process id: {os.getpid()}')\n",
    "        print(f'Cube of {num} is {num ** 3}')\n",
    "\n",
    "if __name__ == '__main__':   \n",
    "    print(f'Main Process id: {os.getpid()}')\n",
    "\n",
    "    lock = multiprocessing.Lock()\n",
    "    \n",
    "    p1 = multiprocessing.Process(target=square, args=(lock,10))\n",
    "    p2 = multiprocessing.Process(target=cube, args=(lock,10))\n",
    "\n",
    "    p1.start()\n",
    "    p2.start()\n",
    "\n",
    "    p1.join()\n",
    "    p2.join()\n",
    "\n",
    "    print('Main Process exit')"
   ]
  },
  {
   "cell_type": "markdown",
   "id": "2df93191",
   "metadata": {},
   "source": [
    "#### Sharing data in MultiProcessing through Queue"
   ]
  },
  {
   "cell_type": "code",
   "execution_count": 76,
   "id": "0c6f852a",
   "metadata": {},
   "outputs": [
    {
     "name": "stdout",
     "output_type": "stream",
     "text": [
      "In Child Process, got: 5\n",
      "In Parent Process\n",
      "1\n",
      "4\n",
      "9\n",
      "16\n",
      "25\n"
     ]
    }
   ],
   "source": [
    "from multiprocessing import Process, Queue\n",
    "\n",
    "def func(queue):\n",
    "    value = queue.get()\n",
    "    print(f'In Child Process, got: {value}')\n",
    "    for i in range(1,value+1):\n",
    "        queue.put(i ** 2)\n",
    "    \n",
    "#----------------------------\n",
    "\n",
    "if __name__ == '__main__':   \n",
    "    queue = Queue()\n",
    "    p = Process(target=func, args=(queue,))\n",
    "    p.start()\n",
    "    queue.put(5)\n",
    "    p.join()\n",
    "    \n",
    "    print('In Parent Process')\n",
    "    while not queue.empty():\n",
    "        print(queue.get())"
   ]
  },
  {
   "cell_type": "markdown",
   "id": "017c8d84",
   "metadata": {},
   "source": [
    "#### Sharing data in MultiProcessing through Pipe"
   ]
  },
  {
   "cell_type": "code",
   "execution_count": 75,
   "id": "e69ce601",
   "metadata": {},
   "outputs": [
    {
     "name": "stdout",
     "output_type": "stream",
     "text": [
      "In Child Process, got: 5\n",
      "In Parent Process\n",
      "1\n",
      "4\n",
      "9\n",
      "16\n",
      "25\n",
      "Pipe closed\n"
     ]
    }
   ],
   "source": [
    "from multiprocessing import Process, Pipe\n",
    "\n",
    "def func(child_conn):\n",
    "    value = child_conn.recv()\n",
    "    print(f'In Child Process, got: {value}')\n",
    "    for i in range(1,value+1):\n",
    "        child_conn.send(i ** 2)\n",
    "#----------------------------\n",
    "\n",
    "if __name__ == '__main__':   \n",
    "    parent_conn, child_conn = Pipe()\n",
    "    p = Process(target=func, args=(child_conn,))\n",
    "    p.start()\n",
    "    num = 5\n",
    "    parent_conn.send(num)\n",
    "    print('In Parent Process')\n",
    "    for i in range(num):\n",
    "        print(parent_conn.recv())\n",
    "    \n",
    "    p.join()\n",
    "    \n",
    "    parent_conn.close() # No further send or recv is possible\n",
    "    print('Pipe closed')"
   ]
  },
  {
   "cell_type": "code",
   "execution_count": null,
   "id": "9a9a28de",
   "metadata": {},
   "outputs": [],
   "source": []
  }
 ],
 "metadata": {
  "kernelspec": {
   "display_name": "Python 3 (ipykernel)",
   "language": "python",
   "name": "python3"
  },
  "language_info": {
   "codemirror_mode": {
    "name": "ipython",
    "version": 3
   },
   "file_extension": ".py",
   "mimetype": "text/x-python",
   "name": "python",
   "nbconvert_exporter": "python",
   "pygments_lexer": "ipython3",
   "version": "3.11.0"
  }
 },
 "nbformat": 4,
 "nbformat_minor": 5
}
