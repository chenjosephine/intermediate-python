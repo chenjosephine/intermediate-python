{
 "cells": [
  {
   "cell_type": "markdown",
   "id": "29bf4b62",
   "metadata": {},
   "source": [
    "#### Ordered Dictionary"
   ]
  },
  {
   "cell_type": "code",
   "execution_count": null,
   "id": "d6053cda",
   "metadata": {},
   "outputs": [],
   "source": [
    "from collections import OrderedDict\n",
    "\n",
    "OrderedDict.__base__"
   ]
  },
  {
   "cell_type": "code",
   "execution_count": null,
   "id": "ad07aff0",
   "metadata": {},
   "outputs": [],
   "source": [
    "od = OrderedDict()\n",
    "\n",
    "od['a'] = 1\n",
    "od['b'] = 2\n",
    "od['c'] = 3\n",
    "\n",
    "print(od)\n",
    "od['b'] = 10\n",
    "print(od)"
   ]
  },
  {
   "cell_type": "code",
   "execution_count": null,
   "id": "c1d37d59",
   "metadata": {},
   "outputs": [],
   "source": [
    "# True implies move the item to the end\n",
    "od.move_to_end('b', True)\n",
    "print(od)"
   ]
  },
  {
   "cell_type": "code",
   "execution_count": null,
   "id": "7085362b",
   "metadata": {},
   "outputs": [],
   "source": [
    "# False implies move the item to the beginning\n",
    "od.move_to_end('b', False)\n",
    "print(od)"
   ]
  },
  {
   "cell_type": "code",
   "execution_count": null,
   "id": "eef42576",
   "metadata": {},
   "outputs": [],
   "source": [
    "d1 = {}\n",
    "d1['a'] = 'A'\n",
    "d1['b'] = 'B'\n",
    "\n",
    "d2 = {}\n",
    "d2['b'] = 'B'\n",
    "d2['a'] = 'A'\n",
    "\n",
    "d1 == d2 # compare the contents irrepective of the order of the items"
   ]
  },
  {
   "cell_type": "code",
   "execution_count": null,
   "id": "3ff67a61",
   "metadata": {},
   "outputs": [],
   "source": [
    "od1 = OrderedDict()\n",
    "od1['a'] = 'A'\n",
    "od1['b'] = 'B'\n",
    "\n",
    "od2 = OrderedDict()\n",
    "od2['b'] = 'B'\n",
    "od2['a'] = 'A'\n",
    "\n",
    "od1 == od2 # compare the contents and will consider the order of the items"
   ]
  },
  {
   "cell_type": "code",
   "execution_count": null,
   "id": "d8e8e57d",
   "metadata": {},
   "outputs": [],
   "source": [
    "od2.move_to_end('b', True)\n",
    "od1 == od2"
   ]
  },
  {
   "cell_type": "code",
   "execution_count": null,
   "id": "96b3e929",
   "metadata": {},
   "outputs": [],
   "source": [
    "s1 = 'Helloworld'\n",
    "\n",
    "letters = {}\n",
    "\n",
    "for ch in s1:\n",
    "    letters[ch] = letters.get(ch,0) + 1\n",
    "\n",
    "letters"
   ]
  },
  {
   "cell_type": "markdown",
   "id": "0227e0dc",
   "metadata": {},
   "source": [
    "#### Default dictionary"
   ]
  },
  {
   "cell_type": "code",
   "execution_count": null,
   "id": "a0689d3f",
   "metadata": {},
   "outputs": [],
   "source": [
    "from collections import defaultdict\n",
    "\n",
    "print(type(defaultdict))"
   ]
  },
  {
   "cell_type": "code",
   "execution_count": null,
   "id": "ff3c3cd6",
   "metadata": {},
   "outputs": [],
   "source": [
    "defaultdict.__base__"
   ]
  },
  {
   "cell_type": "code",
   "execution_count": null,
   "id": "318898a0",
   "metadata": {},
   "outputs": [],
   "source": [
    "s1 = 'Helloworld'\n",
    "letters = defaultdict(int) # int - 0, float - 0.0, str - '', list - []\n",
    "\n",
    "for ch in s1:\n",
    "    letters[ch] = letters[ch] + 1\n",
    "\n",
    "letters"
   ]
  },
  {
   "cell_type": "code",
   "execution_count": null,
   "id": "711b453a",
   "metadata": {},
   "outputs": [],
   "source": [
    "def default_value():\n",
    "    return 'Not present'\n",
    "\n",
    "dd = defaultdict(default_value) # function gets called in case a key does not exist in the dict \n",
    "\n",
    "dd['A'] = 'Apple'\n",
    "dd['Z'] = 'Zebra'\n",
    "\n",
    "print(dd['A'])\n",
    "print(dd['Z'])\n",
    "print(dd['D'])"
   ]
  },
  {
   "cell_type": "markdown",
   "id": "8674856e",
   "metadata": {},
   "source": [
    "#### Default dictionary assignment\n",
    "\n",
    "Read from a file where each line in the file is a word followed by a count\n",
    "\n",
    "- apple 2\n",
    "- banana 6\n",
    "- pear 4\n",
    "- orange 12\n",
    "- apple 5\n",
    "- banana 3\n",
    "- pear 2\n",
    "- pineapple 1\n",
    "\n",
    "1. Create a dictionary as --> {'apple':[2,5], 'banana':[6,3], 'pear':[4,2], 'pineapple':[1]}\n",
    "2. Create a dictionary as --> {'apple':7, 'banana':9, 'pear':6, 'pineapple':1}"
   ]
  },
  {
   "cell_type": "code",
   "execution_count": null,
   "id": "b5317e41",
   "metadata": {},
   "outputs": [],
   "source": [
    "fruits = defaultdict(list)\n",
    "\n",
    "with open('fruits.txt', 'r') as fruits_file:\n",
    "    line = fruits_file.readline()\n",
    "    while line:\n",
    "        fruit,count = line.split()\n",
    "        fruits[fruit].append(int(count))\n",
    "        line = fruits_file.readline()\n",
    "\n",
    "fruits"
   ]
  },
  {
   "cell_type": "code",
   "execution_count": null,
   "id": "16fd4d9e",
   "metadata": {},
   "outputs": [],
   "source": [
    "fruits = defaultdict(int)\n",
    "\n",
    "with open('fruits.txt', 'r') as fruits_file:\n",
    "    line = fruits_file.readline()\n",
    "    while line:\n",
    "        fruit,count = line.split()\n",
    "        fruits[fruit] = fruits[fruit] + int(count)\n",
    "        line = fruits_file.readline()\n",
    "\n",
    "fruits"
   ]
  },
  {
   "cell_type": "markdown",
   "id": "1038f23e",
   "metadata": {},
   "source": [
    "#### Create a class named Point having 2 fields 'x' and 'y'\n",
    "- the fields can be initialized through the constructor and then they would be read only fields"
   ]
  },
  {
   "cell_type": "markdown",
   "id": "33443838",
   "metadata": {},
   "source": [
    "#### Named tuple"
   ]
  },
  {
   "cell_type": "code",
   "execution_count": 21,
   "id": "1290f514",
   "metadata": {},
   "outputs": [
    {
     "data": {
      "text/plain": [
       "function"
      ]
     },
     "execution_count": 21,
     "metadata": {},
     "output_type": "execute_result"
    }
   ],
   "source": [
    "from collections import namedtuple\n",
    "\n",
    "type(namedtuple)"
   ]
  },
  {
   "cell_type": "code",
   "execution_count": null,
   "id": "9e14a0ec",
   "metadata": {},
   "outputs": [],
   "source": [
    "Point = namedtuple('Point', ['x','y'])\n",
    "\n",
    "p1 = Point(3, 4)\n",
    "print(p1.x)\n",
    "print(p1.y)"
   ]
  },
  {
   "cell_type": "code",
   "execution_count": null,
   "id": "f7e9b74b",
   "metadata": {},
   "outputs": [],
   "source": [
    "Point._fields"
   ]
  },
  {
   "cell_type": "code",
   "execution_count": null,
   "id": "b456e755",
   "metadata": {},
   "outputs": [],
   "source": [
    "#can access through index as well\n",
    "print(p1[0])\n",
    "print(p1[1])"
   ]
  },
  {
   "cell_type": "code",
   "execution_count": null,
   "id": "edc28afa",
   "metadata": {},
   "outputs": [],
   "source": [
    "p1.x = 10 # tuple is immutable"
   ]
  },
  {
   "cell_type": "code",
   "execution_count": null,
   "id": "3e61a973",
   "metadata": {},
   "outputs": [],
   "source": [
    "Employee = namedtuple('Employee', ['id', 'name', 'designation'])\n",
    "\n",
    "Employee._fields"
   ]
  },
  {
   "cell_type": "code",
   "execution_count": null,
   "id": "a0d5bb8d",
   "metadata": {},
   "outputs": [],
   "source": [
    "e1 = Employee(101, 'John', 'Programmer')\n",
    "e1"
   ]
  },
  {
   "cell_type": "code",
   "execution_count": null,
   "id": "9b96609c",
   "metadata": {},
   "outputs": [],
   "source": [
    "print(f'Emp id: {e1.id}')\n",
    "print(f'Emp name: {e1.name}')\n",
    "print(f'Emp designation: {e1.designation}')"
   ]
  },
  {
   "cell_type": "code",
   "execution_count": null,
   "id": "828d4e12",
   "metadata": {},
   "outputs": [],
   "source": [
    "# create named tuple instance from a list\n",
    "list1 = [102, 'Sam', 'Admin']\n",
    "\n",
    "e2 = Employee._make(list1)\n",
    "e2"
   ]
  },
  {
   "cell_type": "code",
   "execution_count": null,
   "id": "060a7bc1",
   "metadata": {},
   "outputs": [],
   "source": [
    "# create named tuple instance from a dict\n",
    "dict1 = {'id': 103, 'name': 'Mat', 'designation': 'Accountant'}\n",
    "\n",
    "e3 = Employee(**dict1) # kwargs concept\n",
    "e3"
   ]
  },
  {
   "cell_type": "code",
   "execution_count": null,
   "id": "55108afe",
   "metadata": {},
   "outputs": [],
   "source": [
    "e3.name = 'Mathew'"
   ]
  },
  {
   "cell_type": "code",
   "execution_count": null,
   "id": "bb249908",
   "metadata": {},
   "outputs": [],
   "source": [
    "e4 = e3._replace(name='Mathew')\n",
    "\n",
    "print(e3)\n",
    "print(e4)"
   ]
  },
  {
   "cell_type": "code",
   "execution_count": null,
   "id": "d5494edf",
   "metadata": {},
   "outputs": [],
   "source": [
    "e4.name"
   ]
  },
  {
   "cell_type": "code",
   "execution_count": null,
   "id": "9b1dbb5f",
   "metadata": {},
   "outputs": [],
   "source": [
    "e4.age"
   ]
  },
  {
   "cell_type": "code",
   "execution_count": null,
   "id": "c698e017",
   "metadata": {},
   "outputs": [],
   "source": [
    "getattr(e4, 'age', 'not set') # returns the default value rather than raising an Error"
   ]
  },
  {
   "cell_type": "code",
   "execution_count": null,
   "id": "99c3bdb4",
   "metadata": {},
   "outputs": [],
   "source": [
    "class Demo:\n",
    "    def __init__(self, x):\n",
    "        self.__x = x\n",
    "        \n",
    "    def get_x(self):\n",
    "        return self.__x\n",
    "\n",
    "    def set_x(self, value):\n",
    "        if value >= 1 and value <= 100:        \n",
    "            self.__x = value\n",
    "        else:\n",
    "            print('Invalid value')\n",
    "#-------------------------------------\n",
    "\n",
    "d = Demo(10)\n",
    "\n",
    "print(d.get_x())\n",
    "d.set_x(200)\n",
    "print(d.get_x())"
   ]
  },
  {
   "cell_type": "code",
   "execution_count": 26,
   "id": "64d0e41b",
   "metadata": {},
   "outputs": [
    {
     "name": "stdout",
     "output_type": "stream",
     "text": [
      "10\n"
     ]
    },
    {
     "ename": "AttributeError",
     "evalue": "property 'x' of 'Demo' object has no setter",
     "output_type": "error",
     "traceback": [
      "\u001b[0;31m---------------------------------------------------------------------------\u001b[0m",
      "\u001b[0;31mAttributeError\u001b[0m                            Traceback (most recent call last)",
      "Cell \u001b[0;32mIn[26], line 20\u001b[0m\n\u001b[1;32m     18\u001b[0m d \u001b[38;5;241m=\u001b[39m Demo(\u001b[38;5;241m10\u001b[39m)\n\u001b[1;32m     19\u001b[0m \u001b[38;5;28mprint\u001b[39m(d\u001b[38;5;241m.\u001b[39mx)\n\u001b[0;32m---> 20\u001b[0m \u001b[43md\u001b[49m\u001b[38;5;241;43m.\u001b[39;49m\u001b[43mx\u001b[49m \u001b[38;5;241m=\u001b[39m \u001b[38;5;241m50\u001b[39m\n\u001b[1;32m     21\u001b[0m \u001b[38;5;28mprint\u001b[39m(d\u001b[38;5;241m.\u001b[39mx)\n",
      "\u001b[0;31mAttributeError\u001b[0m: property 'x' of 'Demo' object has no setter"
     ]
    }
   ],
   "source": [
    "class Demo:\n",
    "    def __init__(self, x):\n",
    "        self.__x = x\n",
    "        \n",
    "    @property\n",
    "    def x(self):\n",
    "        return self.__x\n",
    "\n",
    "    '''\n",
    "    @x.setter\n",
    "    def x(self, value):\n",
    "        if value >= 1 and value <= 100:        \n",
    "            self.__x = value\n",
    "        else:\n",
    "            print('Invalid value')\n",
    "    '''\n",
    "#-----------------------------\n",
    "d = Demo(10)\n",
    "print(d.x)\n",
    "d.x = 50\n",
    "print(d.x)"
   ]
  },
  {
   "cell_type": "code",
   "execution_count": 27,
   "id": "07738a92",
   "metadata": {},
   "outputs": [
    {
     "data": {
      "text/plain": [
       "11"
      ]
     },
     "execution_count": 27,
     "metadata": {},
     "output_type": "execute_result"
    }
   ],
   "source": [
    "Demo = namedtuple('Demo', ['x'])\n",
    "d = Demo(11)\n",
    "d.x"
   ]
  },
  {
   "cell_type": "code",
   "execution_count": 23,
   "id": "f71b76ce",
   "metadata": {},
   "outputs": [
    {
     "ename": "AttributeError",
     "evalue": "can't set attribute",
     "output_type": "error",
     "traceback": [
      "\u001b[0;31m---------------------------------------------------------------------------\u001b[0m",
      "\u001b[0;31mAttributeError\u001b[0m                            Traceback (most recent call last)",
      "Cell \u001b[0;32mIn[23], line 1\u001b[0m\n\u001b[0;32m----> 1\u001b[0m \u001b[43md\u001b[49m\u001b[38;5;241;43m.\u001b[39;49m\u001b[43mx\u001b[49m \u001b[38;5;241m=\u001b[39m \u001b[38;5;241m14\u001b[39m\n",
      "\u001b[0;31mAttributeError\u001b[0m: can't set attribute"
     ]
    }
   ],
   "source": [
    "d.x = 14"
   ]
  },
  {
   "cell_type": "code",
   "execution_count": 35,
   "id": "f608015b",
   "metadata": {},
   "outputs": [
    {
     "name": "stdout",
     "output_type": "stream",
     "text": [
      "10\n",
      "100\n",
      "1000\n"
     ]
    }
   ],
   "source": [
    "from dataclasses import dataclass\n",
    "\n",
    "@dataclass(frozen=True)\n",
    "class Demo:\n",
    "    x: int\n",
    "    \n",
    "    def square(self):\n",
    "        return self.x ** 2\n",
    "\n",
    "    def cube(self):\n",
    "        return self.x ** 3\n",
    "#--------------------------\n",
    "\n",
    "d = Demo(10)\n",
    "print(d.x)\n",
    "print(d.square())\n",
    "print(d.cube())"
   ]
  },
  {
   "cell_type": "code",
   "execution_count": 44,
   "id": "dfb92b2d",
   "metadata": {},
   "outputs": [
    {
     "name": "stdout",
     "output_type": "stream",
     "text": [
      "Employee(id=101, name='John', designation='User')\n"
     ]
    }
   ],
   "source": [
    "@dataclass(frozen=False)\n",
    "class Employee:\n",
    "    id: int\n",
    "    name: str\n",
    "    designation: str = 'User'\n",
    "#----------------------------        \n",
    "\n",
    "e = Employee(id=101, name='John')\n",
    "\n",
    "print(e)\n"
   ]
  },
  {
   "cell_type": "code",
   "execution_count": 41,
   "id": "c2d4dc32",
   "metadata": {},
   "outputs": [
    {
     "name": "stdout",
     "output_type": "stream",
     "text": [
      "DayOfWeek.SUNDAY\n"
     ]
    }
   ],
   "source": [
    "from enum import Enum\n",
    "\n",
    "class DayOfWeek(Enum):\n",
    "    SUNDAY = 1\n",
    "    MONDAY = 2\n",
    "    TUESDAY = 3\n",
    "    WEDNESDAY = 4\n",
    "    \n",
    "    \n",
    "d = DayOfWeek(DayOfWeek.SUNDAY)\n",
    "print(d)"
   ]
  },
  {
   "cell_type": "code",
   "execution_count": null,
   "id": "a93d6da4",
   "metadata": {},
   "outputs": [],
   "source": []
  }
 ],
 "metadata": {
  "kernelspec": {
   "display_name": "Python 3 (ipykernel)",
   "language": "python",
   "name": "python3"
  },
  "language_info": {
   "codemirror_mode": {
    "name": "ipython",
    "version": 3
   },
   "file_extension": ".py",
   "mimetype": "text/x-python",
   "name": "python",
   "nbconvert_exporter": "python",
   "pygments_lexer": "ipython3",
   "version": "3.11.0"
  }
 },
 "nbformat": 4,
 "nbformat_minor": 5
}
