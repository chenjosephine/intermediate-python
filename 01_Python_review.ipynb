{
 "cells": [
  {
   "cell_type": "markdown",
   "id": "eef2eb29",
   "metadata": {},
   "source": [
    "#### Intermediate Python\n",
    "- by Rahul"
   ]
  },
  {
   "cell_type": "markdown",
   "id": "28440bba",
   "metadata": {},
   "source": [
    "**Python review**"
   ]
  },
  {
   "cell_type": "code",
   "execution_count": null,
   "id": "17a16d8f",
   "metadata": {},
   "outputs": [],
   "source": [
    "print('Hello from Notebook')"
   ]
  },
  {
   "cell_type": "code",
   "execution_count": null,
   "id": "de23ab04",
   "metadata": {},
   "outputs": [],
   "source": [
    "s = 'Hello from Python'\n",
    "s"
   ]
  },
  {
   "cell_type": "code",
   "execution_count": null,
   "id": "6ee9e256",
   "metadata": {},
   "outputs": [],
   "source": [
    "a = 10\n",
    "b = 20\n",
    "print(a)\n",
    "print(b)"
   ]
  },
  {
   "cell_type": "markdown",
   "id": "75f38756",
   "metadata": {},
   "source": [
    "#### Dynamic language but still gives importance to types"
   ]
  },
  {
   "cell_type": "code",
   "execution_count": null,
   "id": "a87c6e90",
   "metadata": {},
   "outputs": [],
   "source": [
    "a = 10\n",
    "print(type(a))\n",
    "\n",
    "a = 3.1415\n",
    "print(type(a))\n",
    "\n",
    "a = 'Hello'\n",
    "print(type(a))\n",
    "\n",
    "a = []\n",
    "print(type(a))"
   ]
  },
  {
   "cell_type": "code",
   "execution_count": null,
   "id": "f708c1de",
   "metadata": {},
   "outputs": [],
   "source": [
    "x = 10\n",
    "y = '10A'\n",
    "z = x + int(y)\n",
    "z"
   ]
  },
  {
   "cell_type": "code",
   "execution_count": null,
   "id": "7125d940",
   "metadata": {},
   "outputs": [],
   "source": [
    "str(x) + y"
   ]
  },
  {
   "cell_type": "markdown",
   "id": "6e28c933",
   "metadata": {},
   "source": [
    "#### Control statements\n",
    "- Conditional\n",
    "    - if, if else, if elif else\n",
    "- Iterative\n",
    "    - for\n",
    "- Loops\n",
    "    - while\n",
    "- Match case"
   ]
  },
  {
   "cell_type": "code",
   "execution_count": null,
   "id": "b5a0cb3c",
   "metadata": {},
   "outputs": [],
   "source": [
    "#for i in range(10): # from 0 to stop-1\n",
    "#for i in range(1,11): # from 1 to stop-1\n",
    "#for i in range(1,11,3): # from 1 to stop-1\n",
    "\n",
    "for i in range(10,0,-1):\n",
    "    print(i)"
   ]
  },
  {
   "cell_type": "code",
   "execution_count": null,
   "id": "3f21f4e3",
   "metadata": {},
   "outputs": [],
   "source": [
    "for c in 'I Like Python':\n",
    "    print(c, end=' ')"
   ]
  },
  {
   "cell_type": "code",
   "execution_count": null,
   "id": "28ab0474",
   "metadata": {},
   "outputs": [],
   "source": [
    "s = input('Enter a number (1-12): ')\n",
    "try:\n",
    "    month = int(s)\n",
    "    if month in (1, 2, 3):\n",
    "        print('1st Quarter')\n",
    "    elif month in (4, 5, 6):\n",
    "        print('2nd Quarter')\n",
    "    elif month in (7, 8, 9):\n",
    "        print('3rd Quarter')\n",
    "    elif month in (10, 11, 12):\n",
    "        print('4th Quarter')\n",
    "    else:\n",
    "        print('Please enter a number between 1 and 12')    \n",
    "except ValueError:\n",
    "    print('Please enter a number')"
   ]
  },
  {
   "cell_type": "markdown",
   "id": "33d661c4",
   "metadata": {},
   "source": [
    "#### Using match case"
   ]
  },
  {
   "cell_type": "code",
   "execution_count": null,
   "id": "e2d2190f",
   "metadata": {},
   "outputs": [],
   "source": [
    "s = input('Enter a number (1-12): ')\n",
    "try:\n",
    "    month = int(s)\n",
    "    match month:\n",
    "        case 1 | 2| 3:\n",
    "            print('1st Quarter')\n",
    "        case 4 | 5 | 6:\n",
    "            print('2nd Quarter')\n",
    "        case 7 | 8 | 9:\n",
    "            print('3rd Quarter')\n",
    "        case 10 | 11 | 12:\n",
    "            print('4th Quarter')\n",
    "        case _:\n",
    "            print('Please enter a number between 1 and 12')    \n",
    "except ValueError:\n",
    "    print('Please enter a number')"
   ]
  },
  {
   "cell_type": "markdown",
   "id": "33825aff",
   "metadata": {},
   "source": [
    "#### Working with functions"
   ]
  },
  {
   "cell_type": "code",
   "execution_count": null,
   "id": "1feddcf3",
   "metadata": {},
   "outputs": [],
   "source": [
    "def add(a,b):\n",
    "    result = a + b\n",
    "    return result\n",
    "\n",
    "#-----------------------------\n",
    "\n",
    "x = 10\n",
    "y = 20\n",
    "result = add(x,y)\n",
    "\n",
    "print('Sum of', x, 'and', y , 'is', result)\n",
    "print('Sum of %d and %d is %d' % (x,y,result))\n",
    "print('Sum of {} and {} is {}'.format(x,y,result))\n",
    "print(f'Sum of {x} and {y} is {result}') # f-string"
   ]
  },
  {
   "cell_type": "markdown",
   "id": "4bdccd8b",
   "metadata": {},
   "source": [
    "#### Variable scope"
   ]
  },
  {
   "cell_type": "code",
   "execution_count": null,
   "id": "8d5b7e28",
   "metadata": {},
   "outputs": [],
   "source": [
    "a = 10\n",
    "\n",
    "def func():\n",
    "    print('Begin function----')\n",
    "    global b\n",
    "    b = 20\n",
    "    print(f'a = {a}')\n",
    "    print(f'b = {b}')\n",
    "    \n",
    "    print('Local variables:', locals())   # locals() function returns a dictionary having local variables\n",
    "    print('----------------------------')\n",
    "    print('Global variables:', globals())   # globals() function returns a dictionary having global variables\n",
    "    \n",
    "    print('End function----')\n",
    "#--------------------------------------\n",
    "\n",
    "func()\n",
    "print(f'a = {a}')\n",
    "print(f'b = {b}')"
   ]
  },
  {
   "cell_type": "code",
   "execution_count": null,
   "id": "0ab555eb",
   "metadata": {},
   "outputs": [],
   "source": [
    "import keyword\n",
    "\n",
    "print(len(keyword.kwlist))"
   ]
  },
  {
   "cell_type": "code",
   "execution_count": null,
   "id": "1c49ddb0",
   "metadata": {},
   "outputs": [],
   "source": [
    "print(keyword.kwlist)"
   ]
  },
  {
   "cell_type": "code",
   "execution_count": null,
   "id": "394d6ab4",
   "metadata": {},
   "outputs": [],
   "source": [
    "%%writefile hello.py\n",
    "def say_hello(name):\n",
    "    print(f'Hello {name}')"
   ]
  },
  {
   "cell_type": "code",
   "execution_count": null,
   "id": "9392c79a",
   "metadata": {},
   "outputs": [],
   "source": [
    "import hello\n",
    "\n",
    "hello.say_hello('John')\n",
    "hello.say_hello('Sam')\n",
    "hello.say_hello('Mat')"
   ]
  },
  {
   "cell_type": "code",
   "execution_count": null,
   "id": "f047da44",
   "metadata": {},
   "outputs": [],
   "source": [
    "from hello import say_hello\n",
    "\n",
    "say_hello('A')\n",
    "say_hello('B')\n",
    "say_hello('C') "
   ]
  },
  {
   "cell_type": "code",
   "execution_count": null,
   "id": "d7883f9b",
   "metadata": {},
   "outputs": [],
   "source": [
    "from hello import say_hello as s1\n",
    "\n",
    "s1('X')\n",
    "s1('Y')\n",
    "s1('Z')"
   ]
  },
  {
   "cell_type": "code",
   "execution_count": null,
   "id": "85171b17",
   "metadata": {},
   "outputs": [],
   "source": [
    "from hello import say_hello as s1\n",
    "from hello2 import say_hello as s2\n",
    "\n",
    "s2('John')"
   ]
  },
  {
   "cell_type": "markdown",
   "id": "1a0cd441",
   "metadata": {},
   "source": [
    "#### Types in Python\n",
    "- Immutable\n",
    "    - int, float, bool, str, tuple, frozenset\n",
    "- Mutabale\n",
    "    - list, set, dict"
   ]
  },
  {
   "cell_type": "code",
   "execution_count": null,
   "id": "c945d003",
   "metadata": {},
   "outputs": [],
   "source": [
    "# string in Python is Immutable\n",
    "\n",
    "s1 = 'Hello'\n",
    "print(id(s1))\n",
    "s1 = s1 + 'World'\n",
    "print(id(s1))"
   ]
  },
  {
   "cell_type": "code",
   "execution_count": null,
   "id": "96feb142",
   "metadata": {},
   "outputs": [],
   "source": [
    "s1 = 'Hello'\n",
    "print(id(s1))\n",
    "\n",
    "# Does not create a new string object in case another string has same content, that object would be reused \n",
    "s2 = 'Hello' \n",
    "print(id(s2))"
   ]
  },
  {
   "cell_type": "markdown",
   "id": "e9fb4581",
   "metadata": {},
   "source": [
    "#### Working with lists\n",
    "- Ordered sequence of elements\n",
    "- Mutable\n",
    "- Can have heterogenous elements\n",
    "- Can be sliced"
   ]
  },
  {
   "cell_type": "code",
   "execution_count": null,
   "id": "007c1a50",
   "metadata": {},
   "outputs": [],
   "source": [
    "list1 = list((1,2,3,4,5))\n",
    "print(len(list1))\n",
    "print(type(list1))"
   ]
  },
  {
   "cell_type": "code",
   "execution_count": null,
   "id": "a004fa95",
   "metadata": {},
   "outputs": [],
   "source": [
    "list2 = [1,2,3,4,5]\n",
    "print(len(list2))\n",
    "print(type(list2))"
   ]
  },
  {
   "cell_type": "code",
   "execution_count": null,
   "id": "9deb3dde",
   "metadata": {},
   "outputs": [],
   "source": [
    "list1[0]"
   ]
  },
  {
   "cell_type": "code",
   "execution_count": null,
   "id": "db874288",
   "metadata": {},
   "outputs": [],
   "source": [
    "list1[len(list1)-1]"
   ]
  },
  {
   "cell_type": "code",
   "execution_count": null,
   "id": "4e7c5adc",
   "metadata": {},
   "outputs": [],
   "source": [
    "list1[-1] # last element"
   ]
  },
  {
   "cell_type": "code",
   "execution_count": null,
   "id": "0e9726c5",
   "metadata": {},
   "outputs": [],
   "source": [
    "print(list2)\n",
    "list2[2] = 100\n",
    "print(list2)"
   ]
  },
  {
   "cell_type": "code",
   "execution_count": null,
   "id": "646afe4b",
   "metadata": {},
   "outputs": [],
   "source": [
    "print(list2)\n",
    "list2.append(112)\n",
    "print(list2)"
   ]
  },
  {
   "cell_type": "code",
   "execution_count": null,
   "id": "efb62cc6",
   "metadata": {},
   "outputs": [],
   "source": [
    "list2.extend([1001,1002,1003])\n",
    "list2"
   ]
  },
  {
   "cell_type": "code",
   "execution_count": null,
   "id": "cf852d51",
   "metadata": {},
   "outputs": [],
   "source": [
    "list1 = [1,2,3,4,5,6,7,8,9,10]\n",
    "list1"
   ]
  },
  {
   "cell_type": "code",
   "execution_count": 7,
   "id": "f024ab6e",
   "metadata": {},
   "outputs": [
    {
     "data": {
      "text/plain": [
       "[1, 2, 3, 4, 5, 6, 7, 8, 9, 10]"
      ]
     },
     "execution_count": 7,
     "metadata": {},
     "output_type": "execute_result"
    }
   ],
   "source": [
    "list1 = [*range(1,11)]\n",
    "list1"
   ]
  },
  {
   "cell_type": "code",
   "execution_count": null,
   "id": "22370d9e",
   "metadata": {},
   "outputs": [],
   "source": [
    "list1 = list(range(1,11))\n",
    "list1"
   ]
  },
  {
   "cell_type": "code",
   "execution_count": null,
   "id": "7720597c",
   "metadata": {},
   "outputs": [],
   "source": [
    "list2 = [1, 3.1415, 'Hello', False, [10,20,30]]\n",
    "list2"
   ]
  },
  {
   "cell_type": "code",
   "execution_count": null,
   "id": "cbb430c5",
   "metadata": {},
   "outputs": [],
   "source": [
    "# Slicing\n",
    "list2 = list1[2:6] # from index 2 up to index 6-1\n",
    "print(list1)\n",
    "print(list2)\n",
    "print(type(list2))"
   ]
  },
  {
   "cell_type": "code",
   "execution_count": null,
   "id": "3b064345",
   "metadata": {},
   "outputs": [],
   "source": [
    "a = list1[4]\n",
    "type(a)"
   ]
  },
  {
   "cell_type": "code",
   "execution_count": null,
   "id": "b4caf9dc",
   "metadata": {},
   "outputs": [],
   "source": [
    "list1[2:]"
   ]
  },
  {
   "cell_type": "code",
   "execution_count": null,
   "id": "fd585523",
   "metadata": {},
   "outputs": [],
   "source": [
    "list1[:6]"
   ]
  },
  {
   "cell_type": "code",
   "execution_count": null,
   "id": "5427185d",
   "metadata": {},
   "outputs": [],
   "source": [
    "list1[:]"
   ]
  },
  {
   "cell_type": "code",
   "execution_count": null,
   "id": "648cb2de",
   "metadata": {},
   "outputs": [],
   "source": [
    "list1"
   ]
  },
  {
   "cell_type": "code",
   "execution_count": null,
   "id": "a3190613",
   "metadata": {},
   "outputs": [],
   "source": [
    "print(list1)\n",
    "ele = list1.pop() # return and remove the last element\n",
    "print(ele)\n",
    "print(list1)"
   ]
  },
  {
   "cell_type": "code",
   "execution_count": null,
   "id": "857be162",
   "metadata": {},
   "outputs": [],
   "source": [
    "print(list1)\n",
    "ele = list1.pop(4) # return and remove the element at specified index\n",
    "print(ele)\n",
    "print(list1)"
   ]
  },
  {
   "cell_type": "code",
   "execution_count": null,
   "id": "9e9687ba",
   "metadata": {},
   "outputs": [],
   "source": [
    "print(list1)\n",
    "\n",
    "if 8 in list1:\n",
    "    list1.remove(8) # remove the specified element\n",
    "else:\n",
    "    print('Not present')\n",
    "    \n",
    "print(list1)"
   ]
  },
  {
   "cell_type": "markdown",
   "id": "ce8408e8",
   "metadata": {},
   "source": [
    "#### Square  of elements present in list1"
   ]
  },
  {
   "cell_type": "code",
   "execution_count": null,
   "id": "bb976ee8",
   "metadata": {},
   "outputs": [],
   "source": [
    "list1 = [1, 2, 3, 4, 5, 6, 7, 8, 9, 10]\n",
    "\n",
    "list2 = []\n",
    "for ele in list1:\n",
    "    list2.append(ele ** 2)\n",
    "    \n",
    "print(list1)\n",
    "print(list2)"
   ]
  },
  {
   "cell_type": "markdown",
   "id": "88a89678",
   "metadata": {},
   "source": [
    "#### List comprehension"
   ]
  },
  {
   "cell_type": "code",
   "execution_count": null,
   "id": "36bc726b",
   "metadata": {},
   "outputs": [],
   "source": [
    "list1 = [1, 2, 3, 4, 5, 6, 7, 8, 9, 10]\n",
    "list2 = [ele ** 2 for ele in list1]\n",
    "\n",
    "print(list1)\n",
    "print(list2)"
   ]
  },
  {
   "cell_type": "markdown",
   "id": "2c276d05",
   "metadata": {},
   "source": [
    "#### List enumeration"
   ]
  },
  {
   "cell_type": "code",
   "execution_count": null,
   "id": "77eada14",
   "metadata": {},
   "outputs": [],
   "source": [
    "fruits = ['apple', 'banana', 'orange', 'pear', 'pineapple']\n",
    "\n",
    "for i in range(0, len(fruits)):\n",
    "    print(i, '-->', fruits[i])"
   ]
  },
  {
   "cell_type": "code",
   "execution_count": null,
   "id": "de2661ff",
   "metadata": {},
   "outputs": [],
   "source": [
    "for i,ele in enumerate(fruits):\n",
    "    print(index, '-->', ele)"
   ]
  },
  {
   "cell_type": "markdown",
   "id": "8bb1594c",
   "metadata": {},
   "source": [
    "#### List asiignment\n",
    "1. Find the number of occurences of a given element (e.g. apple occurs 2 times)\n",
    "2. Where does the element occur (give all indices in a list e.g. [0,3])"
   ]
  },
  {
   "cell_type": "code",
   "execution_count": null,
   "id": "d14062e4",
   "metadata": {},
   "outputs": [],
   "source": [
    "fruits = ['apple', 'banana', 'orange', 'apple', 'pear', 'pineapple']\n",
    "fruit_to_find = 'apple'\n",
    "\n",
    "count = fruits.count(fruit_to_find)\n",
    "\n",
    "if count > 0:\n",
    "    indices = [i for i,ele in enumerate(fruits) if ele == fruit_to_find]\n",
    "    print(f'{fruit_to_find} occurs {count} time(s)')\n",
    "    print(f'{fruit_to_find} occurs at {indices}')    \n",
    "else:\n",
    "    print(f'{fruit_to_find} does not occur in {fruits}')"
   ]
  },
  {
   "cell_type": "markdown",
   "id": "41408150",
   "metadata": {},
   "source": [
    "#### Working with sets\n",
    "- Unordered\n",
    "- Mutable\n",
    "- Can have heterogenous elements\n",
    "- Can't have duplicates"
   ]
  },
  {
   "cell_type": "code",
   "execution_count": null,
   "id": "a8045cf3",
   "metadata": {},
   "outputs": [],
   "source": [
    "set1 = set()\n",
    "print(type(set1))\n",
    "print(len(set1))"
   ]
  },
  {
   "cell_type": "code",
   "execution_count": null,
   "id": "f1a62e0b",
   "metadata": {},
   "outputs": [],
   "source": [
    "set1 = {1,3,5}\n",
    "print(type(set1))\n",
    "print(len(set1))"
   ]
  },
  {
   "cell_type": "code",
   "execution_count": null,
   "id": "7b3e24ea",
   "metadata": {},
   "outputs": [],
   "source": [
    "set1"
   ]
  },
  {
   "cell_type": "code",
   "execution_count": null,
   "id": "625a08f3",
   "metadata": {},
   "outputs": [],
   "source": [
    "set1[3] = 100"
   ]
  },
  {
   "cell_type": "code",
   "execution_count": null,
   "id": "f5cb33bb",
   "metadata": {},
   "outputs": [],
   "source": [
    "for ele in set1:\n",
    "    print(ele)"
   ]
  },
  {
   "cell_type": "code",
   "execution_count": null,
   "id": "22b548a6",
   "metadata": {},
   "outputs": [],
   "source": [
    "set1"
   ]
  },
  {
   "cell_type": "code",
   "execution_count": null,
   "id": "b7fdaff9",
   "metadata": {},
   "outputs": [],
   "source": [
    "set1.add(10)\n",
    "set1"
   ]
  },
  {
   "cell_type": "code",
   "execution_count": null,
   "id": "61de0626",
   "metadata": {},
   "outputs": [],
   "source": [
    "set1.update((10,20,30))\n",
    "set1"
   ]
  },
  {
   "cell_type": "code",
   "execution_count": null,
   "id": "7fa35dbf",
   "metadata": {},
   "outputs": [],
   "source": [
    "print(set1)\n",
    "set1.remove(10)\n",
    "print(set1)"
   ]
  },
  {
   "cell_type": "code",
   "execution_count": null,
   "id": "1140a79b",
   "metadata": {},
   "outputs": [],
   "source": [
    "if 10 in set1:\n",
    "    set1.remove(10) # raises KeyError if element does not exist"
   ]
  },
  {
   "cell_type": "code",
   "execution_count": null,
   "id": "a30311f2",
   "metadata": {},
   "outputs": [],
   "source": [
    "print(set1)\n",
    "set1.discard(20)\n",
    "print(set1)"
   ]
  },
  {
   "cell_type": "code",
   "execution_count": null,
   "id": "0360209a",
   "metadata": {},
   "outputs": [],
   "source": [
    "set1.discard(20) # remove element if exists else ignore and keep quiet"
   ]
  },
  {
   "cell_type": "markdown",
   "id": "11326c3f",
   "metadata": {},
   "source": [
    "#### Frozenset is an immutable set"
   ]
  },
  {
   "cell_type": "code",
   "execution_count": null,
   "id": "1794f1c3",
   "metadata": {},
   "outputs": [],
   "source": [
    "set1 = {'apple', 'banana'}\n",
    "print(set1)\n",
    "set1.add('orange')\n",
    "print(set1)"
   ]
  },
  {
   "cell_type": "code",
   "execution_count": null,
   "id": "66f7cdcc",
   "metadata": {},
   "outputs": [],
   "source": [
    "frozenset1 = frozenset(set1)\n",
    "print(frozenset1)\n",
    "\n",
    "frozenset1.add('pear') # Error since immutable"
   ]
  },
  {
   "cell_type": "code",
   "execution_count": null,
   "id": "92a4c05c",
   "metadata": {},
   "outputs": [],
   "source": [
    "frozenset1 = frozenset((1,2,3))\n",
    "frozenset2 = frozenset1.copy()\n",
    "frozenset3 = frozenset((4,5,6)).union(frozenset2)\n",
    "\n",
    "print(frozenset3)"
   ]
  },
  {
   "cell_type": "markdown",
   "id": "11d50995",
   "metadata": {},
   "source": [
    "**Remove duplicates from a list** "
   ]
  },
  {
   "cell_type": "code",
   "execution_count": null,
   "id": "6a530d37",
   "metadata": {},
   "outputs": [],
   "source": [
    "list1 = [3,2,5,7,1,9,3,1,2]\n",
    "print(list1)\n",
    "\n",
    "list1 = list(set(list1))\n",
    "\n",
    "print(list1)"
   ]
  },
  {
   "cell_type": "markdown",
   "id": "ade01186",
   "metadata": {},
   "source": [
    "#### Write a function which takes a string as parameter, display the words and their frequency\n",
    "1. Case sensitive\n",
    "2. Case insensitive"
   ]
  },
  {
   "cell_type": "code",
   "execution_count": null,
   "id": "3f8d9ef0",
   "metadata": {},
   "outputs": [],
   "source": [
    "def word_frequency(string1):\n",
    "    \n",
    "    #case sensitive\n",
    "    word_list = string1.replace('.', '').split()\n",
    "    \n",
    "    #case insensitive\n",
    "    word_list = string1.replace('.', '').lower().split()\n",
    "    \n",
    "    unique_words = set(word_list)\n",
    "    \n",
    "    for word in unique_words:\n",
    "        print(f'{word} --> {word_list.count(word)}')\n",
    "\n",
    "#-------------------------------------------\n",
    "\n",
    "s1 = 'Hello world from python. Python is a simple language. Hello again from python.'\n",
    "word_frequency(s1)"
   ]
  },
  {
   "cell_type": "markdown",
   "id": "d4514ad3",
   "metadata": {},
   "source": [
    "#### Working with tuple\n",
    "- Ordered sequence of elements\n",
    "- Immutable\n",
    "- Can have heterogenous elements\n",
    "- Can be sliced"
   ]
  },
  {
   "cell_type": "code",
   "execution_count": null,
   "id": "b55709ea",
   "metadata": {},
   "outputs": [],
   "source": [
    "tuple1 = tuple()\n",
    "\n",
    "tuple2 = ()\n",
    "\n",
    "print(type(tuple1))\n",
    "\n",
    "print(type(tuple2))\n"
   ]
  },
  {
   "cell_type": "code",
   "execution_count": null,
   "id": "5fadcfbe",
   "metadata": {},
   "outputs": [],
   "source": [
    "tuple1 = ('hello',) # Single element tuple\n",
    "type(tuple1)"
   ]
  },
  {
   "cell_type": "code",
   "execution_count": null,
   "id": "b28061ce",
   "metadata": {},
   "outputs": [],
   "source": [
    "# Tuple unpacking\n",
    "\n",
    "tuple1 = (10,20,30)\n",
    "a,b,c = tuple1\n",
    "\n",
    "print(a)\n",
    "print(b)\n",
    "print(c)"
   ]
  },
  {
   "cell_type": "code",
   "execution_count": null,
   "id": "b2dba7a3",
   "metadata": {},
   "outputs": [],
   "source": [
    "tuple1[1]"
   ]
  },
  {
   "cell_type": "code",
   "execution_count": null,
   "id": "a292b7ec",
   "metadata": {},
   "outputs": [],
   "source": [
    "tuple1[1] = 100 # Error since tuple is immutable"
   ]
  },
  {
   "cell_type": "markdown",
   "id": "8caa3d78",
   "metadata": {},
   "source": [
    "**Flatten a Tuple**"
   ]
  },
  {
   "cell_type": "code",
   "execution_count": null,
   "id": "3b4d5232",
   "metadata": {},
   "outputs": [],
   "source": [
    "tuple1 = (1,2,3,(4,5,6))\n",
    "print(tuple1)\n",
    "\n",
    "list1 = []\n",
    "\n",
    "for ele in tuple1:\n",
    "    if type(ele) is tuple:\n",
    "        list1.extend(ele)\n",
    "    else:\n",
    "        list1.append(ele)\n",
    "\n",
    "tuple1 = tuple(list1)        \n",
    "        \n",
    "print(tuple1)"
   ]
  },
  {
   "cell_type": "markdown",
   "id": "da0af426",
   "metadata": {},
   "source": [
    "#### Using comprehension for flattening"
   ]
  },
  {
   "cell_type": "code",
   "execution_count": null,
   "id": "70aa43b3",
   "metadata": {},
   "outputs": [],
   "source": [
    "tuple1 = (1, 2, 3, (4,5,6,7))\n",
    "\n",
    "tuple(x for t in tuple1 for x in (t if isinstance(t, tuple) else (t,)))"
   ]
  },
  {
   "cell_type": "markdown",
   "id": "04f17bd3",
   "metadata": {},
   "source": [
    "#### Working with Dictionary\n",
    "- Unordered (ordered from version 3.7)\n",
    "- Made of up items where each item is a key/value pair\n",
    "- Keys are unique and need to be immutable type\n",
    "- Value can be of any type"
   ]
  },
  {
   "cell_type": "code",
   "execution_count": null,
   "id": "28ca76b7",
   "metadata": {},
   "outputs": [],
   "source": [
    "dict1 = {}\n",
    "print(type(dict1))\n",
    "print(len(dict1))"
   ]
  },
  {
   "cell_type": "code",
   "execution_count": null,
   "id": "7badeceb",
   "metadata": {},
   "outputs": [],
   "source": [
    "dict1 = {'Name':'John', 'Age':21, 'Gender':'Male'}\n",
    "print(type(dict1))\n",
    "print(len(dict1))"
   ]
  },
  {
   "cell_type": "code",
   "execution_count": null,
   "id": "a2a22b9b",
   "metadata": {},
   "outputs": [],
   "source": [
    "dict1['Name'] # KeyError in case the key does not exist"
   ]
  },
  {
   "cell_type": "code",
   "execution_count": null,
   "id": "dff088c3",
   "metadata": {},
   "outputs": [],
   "source": [
    "dict1['Result'] = 'Fail' # New pair gets added\n",
    "dict1"
   ]
  },
  {
   "cell_type": "code",
   "execution_count": null,
   "id": "6022bd12",
   "metadata": {},
   "outputs": [],
   "source": [
    "dict1['Name'] = 'Johnson' # replace existing value if key already exists \n",
    "dict1"
   ]
  },
  {
   "cell_type": "code",
   "execution_count": null,
   "id": "9eec1999",
   "metadata": {},
   "outputs": [],
   "source": [
    "value = dict1.get('Name123') # returns None in case the key does not exist\n",
    "print(value)"
   ]
  },
  {
   "cell_type": "code",
   "execution_count": null,
   "id": "c5013c9b",
   "metadata": {},
   "outputs": [],
   "source": [
    "value = dict1.get('Name123', 'Not set') # returns the specified default value in case the key does not exist\n",
    "print(value)"
   ]
  },
  {
   "cell_type": "code",
   "execution_count": null,
   "id": "ce2c36d4",
   "metadata": {},
   "outputs": [],
   "source": [
    "dict1.keys() # returns a collection of dictionary keys"
   ]
  },
  {
   "cell_type": "code",
   "execution_count": null,
   "id": "89ec5fa9",
   "metadata": {},
   "outputs": [],
   "source": [
    "for key in dict1.keys():\n",
    "    print(key)"
   ]
  },
  {
   "cell_type": "code",
   "execution_count": null,
   "id": "93686fad",
   "metadata": {},
   "outputs": [],
   "source": [
    "dict1.values()"
   ]
  },
  {
   "cell_type": "code",
   "execution_count": null,
   "id": "b15567a0",
   "metadata": {},
   "outputs": [],
   "source": [
    "for value in dict1.values():\n",
    "    print(value)"
   ]
  },
  {
   "cell_type": "code",
   "execution_count": null,
   "id": "42fc4ac3",
   "metadata": {},
   "outputs": [],
   "source": [
    "for key in dict1.keys():\n",
    "    print(f'{key} --> {dict1[key]}')"
   ]
  },
  {
   "cell_type": "code",
   "execution_count": null,
   "id": "0ddeb802",
   "metadata": {},
   "outputs": [],
   "source": [
    "dict1.items()"
   ]
  },
  {
   "cell_type": "code",
   "execution_count": null,
   "id": "7bc1a734",
   "metadata": {},
   "outputs": [],
   "source": [
    "# item is a tuple having 2 elements, [0] is the key and [1] is the value\n",
    "for item in dict1.items():\n",
    "    print(f'{item[0]} :: {item[1]}')"
   ]
  },
  {
   "cell_type": "code",
   "execution_count": null,
   "id": "a222256f",
   "metadata": {},
   "outputs": [],
   "source": [
    "for k,v in dict1.items():\n",
    "    print(f'{k} :: {v}')"
   ]
  },
  {
   "cell_type": "code",
   "execution_count": null,
   "id": "d9dc9a79",
   "metadata": {},
   "outputs": [],
   "source": [
    "# by default, a dictionary iterates over its keys\n",
    "for ele in dict1:\n",
    "    print(ele)"
   ]
  },
  {
   "cell_type": "code",
   "execution_count": null,
   "id": "d01f550d",
   "metadata": {},
   "outputs": [],
   "source": [
    "# index and key at that index\n",
    "for i,ele in enumerate(dict1):\n",
    "    print(i, '-->', ele)"
   ]
  },
  {
   "cell_type": "markdown",
   "id": "7c3ecb11",
   "metadata": {},
   "source": [
    "Get output as follows: **i --> key ==> value**"
   ]
  },
  {
   "cell_type": "code",
   "execution_count": null,
   "id": "bf0459cb",
   "metadata": {},
   "outputs": [],
   "source": [
    "for i,ele in enumerate(dict1):\n",
    "    print(i, '-->', ele, '==>', dict1[ele])"
   ]
  },
  {
   "cell_type": "code",
   "execution_count": null,
   "id": "20e1df44",
   "metadata": {},
   "outputs": [],
   "source": [
    "for i,(k,v) in enumerate(dict1.items()):\n",
    "    print(i, '-->', k, '==>', v)"
   ]
  },
  {
   "cell_type": "markdown",
   "id": "fd627471",
   "metadata": {},
   "source": [
    "#### Create a dictionary from a string\n",
    "- each character will be the key and frequency will be the value"
   ]
  },
  {
   "cell_type": "code",
   "execution_count": null,
   "id": "486a8d0f",
   "metadata": {},
   "outputs": [],
   "source": [
    "s1 = 'Helloworld'\n",
    "\n",
    "letters = {}\n",
    "\n",
    "for ch in s1:\n",
    "    letters[ch] = letters.get(ch,0) + 1\n",
    "\n",
    "letters"
   ]
  },
  {
   "cell_type": "markdown",
   "id": "767f7a47",
   "metadata": {},
   "source": [
    "#### Create a dictionary named stats\n",
    "- stats = {'Male':4, 'Female':2, 'Unknown':2}"
   ]
  },
  {
   "cell_type": "code",
   "execution_count": null,
   "id": "7851acd5",
   "metadata": {},
   "outputs": [],
   "source": [
    "dict1 = {\n",
    "        101 : ('John', 20, 'Male'),\n",
    "        102 : ('Sam', 22, 'Male'),\n",
    "        103 : ('Jane', 21, 'Female'),\n",
    "        104 : ('Mat', 23, 'Male'),\n",
    "        105 : ('Nancy', 20, 'Female'),\n",
    "        106 : ('X', 21, 'Unknown'),\n",
    "        107 : ('Y', 22, 'Unknown'), \n",
    "        108 : ('Sean', 25, 'Male')    \n",
    "}\n",
    "\n",
    "stats = {}\n",
    "\n",
    "for student in dict1.values():\n",
    "    stats[student[2]] = stats.get(student[2],0) + 1\n",
    "\n",
    "stats"
   ]
  },
  {
   "cell_type": "markdown",
   "id": "54016159",
   "metadata": {},
   "source": [
    "#### Create dictionary"
   ]
  },
  {
   "cell_type": "code",
   "execution_count": null,
   "id": "4f5a7cea",
   "metadata": {},
   "outputs": [],
   "source": [
    "keys = ('Name', 'Age', 'Gender', 'Result')\n",
    "values = ('Johnson', 21, 'Male', 'Fail')\n",
    "\n",
    "dict1 = {}\n",
    "\n",
    "for i,key in enumerate(keys):\n",
    "    dict1[key] = values[i]\n",
    "\n",
    "dict1          "
   ]
  },
  {
   "cell_type": "code",
   "execution_count": null,
   "id": "b0d03b9f",
   "metadata": {},
   "outputs": [],
   "source": [
    "keys = ('Name', 'Age', 'Gender', 'Result')\n",
    "values = ('Johnson', 21, 'Male', 'Fail')\n",
    "\n",
    "dict1 = {key:values[i] for i,key in enumerate(keys)} # Dictionary comprehension\n",
    "\n",
    "dict1  "
   ]
  },
  {
   "cell_type": "code",
   "execution_count": null,
   "id": "bf885cdc",
   "metadata": {},
   "outputs": [],
   "source": [
    "keys = ('Name', 'Age', 'Gender', 'Result')\n",
    "values = ('Johnson', 21, 'Male', 'Fail')\n",
    "\n",
    "dict1 = dict.fromkeys(keys) # keys are set and values are None for all\n",
    "\n",
    "for i,k in enumerate(dict1.keys()):\n",
    "    dict1[k] = values[i]\n",
    "\n",
    "dict1  "
   ]
  },
  {
   "cell_type": "code",
   "execution_count": null,
   "id": "736cc44c",
   "metadata": {},
   "outputs": [],
   "source": [
    "data = [('Name', 'Johnson'), ('Age', 21), ('Gender', 'Male'), ('Result', 'Fail')]\n",
    "dict1 = dict(data)\n",
    "dict1"
   ]
  },
  {
   "cell_type": "code",
   "execution_count": 1,
   "id": "b26abc0f",
   "metadata": {},
   "outputs": [],
   "source": [
    "# args is treated as a tuple, hence it can be iterated\n",
    "def add(a, b, *args):\n",
    "    \n",
    "    result = a + b\n",
    "    \n",
    "    result = a + b + sum(args) # sum is a built-in function\n",
    "    \n",
    "    '''\n",
    "    for ele in args:\n",
    "        result += ele\n",
    "    '''\n",
    "    \n",
    "    return result"
   ]
  },
  {
   "cell_type": "code",
   "execution_count": 2,
   "id": "4efec98d",
   "metadata": {},
   "outputs": [
    {
     "data": {
      "text/plain": [
       "30"
      ]
     },
     "execution_count": 2,
     "metadata": {},
     "output_type": "execute_result"
    }
   ],
   "source": [
    "add(10,20)"
   ]
  },
  {
   "cell_type": "code",
   "execution_count": 3,
   "id": "ce446793",
   "metadata": {},
   "outputs": [
    {
     "data": {
      "text/plain": [
       "66"
      ]
     },
     "execution_count": 3,
     "metadata": {},
     "output_type": "execute_result"
    }
   ],
   "source": [
    "add(11,22,33)"
   ]
  },
  {
   "cell_type": "code",
   "execution_count": 4,
   "id": "ea471772",
   "metadata": {},
   "outputs": [
    {
     "data": {
      "text/plain": [
       "55"
      ]
     },
     "execution_count": 4,
     "metadata": {},
     "output_type": "execute_result"
    }
   ],
   "source": [
    "add(1,2,3,4,5,6,7,8,9,10)"
   ]
  },
  {
   "cell_type": "code",
   "execution_count": 6,
   "id": "584f84a6",
   "metadata": {},
   "outputs": [
    {
     "data": {
      "text/plain": [
       "36"
      ]
     },
     "execution_count": 6,
     "metadata": {},
     "output_type": "execute_result"
    }
   ],
   "source": [
    "tuple1 = (1,2,3)\n",
    "add(10, 20, *tuple1)"
   ]
  },
  {
   "cell_type": "code",
   "execution_count": 8,
   "id": "f94940fa",
   "metadata": {},
   "outputs": [],
   "source": [
    "# kwargs is treated as a dictionary\n",
    "def demo(**kwargs):\n",
    "    for k,v in kwargs.items():\n",
    "        print(k, '==>', v)"
   ]
  },
  {
   "cell_type": "code",
   "execution_count": 10,
   "id": "06b94d90",
   "metadata": {},
   "outputs": [
    {
     "name": "stdout",
     "output_type": "stream",
     "text": [
      "x ==> 10\n",
      "y ==> 20\n",
      "z ==> 30\n"
     ]
    }
   ],
   "source": [
    "demo(x=10, y=20, z=30)"
   ]
  },
  {
   "cell_type": "code",
   "execution_count": 12,
   "id": "05b29142",
   "metadata": {},
   "outputs": [
    {
     "name": "stdout",
     "output_type": "stream",
     "text": [
      "host ==> db.example.com\n",
      "port ==> 3306\n",
      "user ==> scott\n",
      "password ==> Tiger@123\n"
     ]
    }
   ],
   "source": [
    "db_details = {'host':'db.example.com', 'port':3306, 'user':'scott', 'password':'Tiger@123'}\n",
    "\n",
    "demo(**db_details) # dictionary sent as kwargs"
   ]
  }
 ],
 "metadata": {
  "kernelspec": {
   "display_name": "Python 3 (ipykernel)",
   "language": "python",
   "name": "python3"
  },
  "language_info": {
   "codemirror_mode": {
    "name": "ipython",
    "version": 3
   },
   "file_extension": ".py",
   "mimetype": "text/x-python",
   "name": "python",
   "nbconvert_exporter": "python",
   "pygments_lexer": "ipython3",
   "version": "3.11.0"
  }
 },
 "nbformat": 4,
 "nbformat_minor": 5
}
