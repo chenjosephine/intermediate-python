{
 "cells": [
  {
   "cell_type": "markdown",
   "id": "ccaa52e4",
   "metadata": {},
   "source": [
    "#### Python scoping rules\n",
    "- LEGB (Local --> Enclosed --> Global --> Built-in)\n",
    "- Local --> declarations in a function\n",
    "- Enclosed --> declarations in the outer function\n",
    "- Global --> declarations at the top level (within the script)\n",
    "- Built-in --> declarations which are part of Core library"
   ]
  },
  {
   "cell_type": "code",
   "execution_count": 4,
   "id": "15ba1386",
   "metadata": {},
   "outputs": [],
   "source": [
    "a = 10\n",
    "\n",
    "def outer_func():\n",
    "    b = 20\n",
    "    \n",
    "    def inner_func():\n",
    "        c = 30\n",
    "        print(f'c = {c}')\n",
    "        print(f'b = {b}')\n",
    "        print(f'a = {a}')\n",
    "        print(sum((1,2,3,4,5)))\n",
    "        \n",
    "    inner_func()"
   ]
  },
  {
   "cell_type": "code",
   "execution_count": 5,
   "id": "cc5b6098",
   "metadata": {},
   "outputs": [
    {
     "name": "stdout",
     "output_type": "stream",
     "text": [
      "c = 30\n",
      "b = 20\n",
      "a = 10\n",
      "15\n"
     ]
    }
   ],
   "source": [
    "outer_func()"
   ]
  },
  {
   "cell_type": "markdown",
   "id": "87b86e66",
   "metadata": {},
   "source": [
    "#### Closure in Python\n",
    "- A Closure is a function which remembers values from the enclosing scope even when the flow is no longer in the enclosing scope"
   ]
  },
  {
   "cell_type": "code",
   "execution_count": 6,
   "id": "9d620d60",
   "metadata": {},
   "outputs": [],
   "source": [
    "def make_adder(x):\n",
    "    def adder(y):\n",
    "        return x + y\n",
    "    \n",
    "    return adder # this is a Closure"
   ]
  },
  {
   "cell_type": "code",
   "execution_count": 9,
   "id": "6acd31be",
   "metadata": {},
   "outputs": [
    {
     "data": {
      "text/plain": [
       "30"
      ]
     },
     "execution_count": 9,
     "metadata": {},
     "output_type": "execute_result"
    }
   ],
   "source": [
    "inner1 = make_adder(10)\n",
    "inner1(20) # calling the inner function"
   ]
  },
  {
   "cell_type": "code",
   "execution_count": 10,
   "id": "ce098fcc",
   "metadata": {},
   "outputs": [
    {
     "data": {
      "text/plain": [
       "110"
      ]
     },
     "execution_count": 10,
     "metadata": {},
     "output_type": "execute_result"
    }
   ],
   "source": [
    "inner1(100)"
   ]
  },
  {
   "cell_type": "code",
   "execution_count": 11,
   "id": "5f7ef4e9",
   "metadata": {},
   "outputs": [
    {
     "data": {
      "text/plain": [
       "150"
      ]
     },
     "execution_count": 11,
     "metadata": {},
     "output_type": "execute_result"
    }
   ],
   "source": [
    "inner2 = make_adder(50)\n",
    "inner2(100)"
   ]
  },
  {
   "cell_type": "markdown",
   "id": "feadaf4f",
   "metadata": {},
   "source": [
    "#### Decorator\n",
    "- Wrappers functions (built on top of Closure concept)\n",
    "- Outer function has a parameter which is a function to be decorated (called as target function)\n",
    "- Inner function accepts the same parameters as that of target function\n",
    "- Purpose of decorator is to modify the target function behavior without modifying its code\n",
    "- Used for adding pre or post or both actions to a function call\n",
    "\n",
    "**Closure vs Decorator**\n",
    "- Decorator (outer function) should accept a target function as a parameter (no such requirement in Closures) \n",
    "- Inner function should accept the same parameters as that of target function (no such requirement in Closures)\n",
    "- All decorators are Closures but vice-versa may not be true"
   ]
  },
  {
   "cell_type": "code",
   "execution_count": 25,
   "id": "2d1daebb",
   "metadata": {},
   "outputs": [
    {
     "name": "stdout",
     "output_type": "stream",
     "text": [
      "WARNING: Negative Number is not accepted\n"
     ]
    }
   ],
   "source": [
    "def isPositive(target):\n",
    "    def inner_func(num):\n",
    "        if num >= 0:\n",
    "            print('Calling the target function -->', target.__name__)\n",
    "            result = target(num)\n",
    "            return result\n",
    "        else:\n",
    "            print('WARNING: Negative Number is not accepted')\n",
    "    \n",
    "    return inner_func # Closure\n",
    "#------------------------------------------------\n",
    "def demo(num):\n",
    "    print(f'Number is {num}')\n",
    "    \n",
    "inner1 = isPositive(demo)\n",
    "inner1(-3) "
   ]
  },
  {
   "cell_type": "code",
   "execution_count": 31,
   "id": "421ce6db",
   "metadata": {},
   "outputs": [
    {
     "name": "stdout",
     "output_type": "stream",
     "text": [
      "Calling the target function --> demo\n",
      "Number is 3\n"
     ]
    }
   ],
   "source": [
    "def isPositive(target):\n",
    "    def inner_func(num):\n",
    "        if num >= 0:\n",
    "            print('Calling the target function -->', target.__name__)\n",
    "            result = target(num)\n",
    "            return result\n",
    "        else:\n",
    "            print('WARNING: Negative Number is not accepted')\n",
    "\n",
    "    return inner_func   # Closure\n",
    "#------------------------------------------------\n",
    "@isPositive\n",
    "def demo(num):\n",
    "    print(f'Number is {num}')\n",
    "    \n",
    "demo(3)  # this ends up in calling the inner function (Closure) which in turn calls the target  "
   ]
  },
  {
   "cell_type": "code",
   "execution_count": 32,
   "id": "b7da5a44",
   "metadata": {},
   "outputs": [
    {
     "name": "stdout",
     "output_type": "stream",
     "text": [
      "WARNING: Negative Number is not accepted\n"
     ]
    }
   ],
   "source": [
    "demo(-3) "
   ]
  },
  {
   "cell_type": "markdown",
   "id": "d0913ea5",
   "metadata": {},
   "source": [
    "#### Multiple decorators"
   ]
  },
  {
   "cell_type": "code",
   "execution_count": 9,
   "id": "c6481853",
   "metadata": {},
   "outputs": [
    {
     "name": "stdout",
     "output_type": "stream",
     "text": [
      "Square Decorator is being prepared\n",
      "Cube Decorator is being prepared\n",
      "Cube Decorator is calling the target function --> inner_func\n",
      "Square Decorator is calling the target function --> num\n"
     ]
    },
    {
     "data": {
      "text/plain": [
       "64"
      ]
     },
     "execution_count": 9,
     "metadata": {},
     "output_type": "execute_result"
    }
   ],
   "source": [
    "def square(target):\n",
    "    print('Square Decorator is being prepared')\n",
    "    def inner_func():\n",
    "        print('Square Decorator is calling the target function -->', target.__name__)\n",
    "        x = target()\n",
    "        return x ** 2\n",
    "    \n",
    "    return inner_func\n",
    "#----------------------------------\n",
    "def cube(target):\n",
    "    print('Cube Decorator is being prepared')\n",
    "    def inner_func():\n",
    "        print('Cube Decorator is calling the target function -->', target.__name__)\n",
    "        x = target()\n",
    "        return x ** 3\n",
    "    \n",
    "    return inner_func\n",
    "#----------------------------------\n",
    "\n",
    "@cube\n",
    "@square\n",
    "def num():\n",
    "    return 2\n",
    "\n",
    "num()"
   ]
  },
  {
   "cell_type": "code",
   "execution_count": 8,
   "id": "e00e26e4",
   "metadata": {},
   "outputs": [
    {
     "name": "stdout",
     "output_type": "stream",
     "text": [
      "Times 10\n",
      "Add 10\n",
      "150\n"
     ]
    }
   ],
   "source": [
    "def run_last(call_me):\n",
    "    def times_ten():\n",
    "        print('Times 10')\n",
    "        x = call_me()\n",
    "        return 10 * x\n",
    "    return times_ten\n",
    "\n",
    "def run_first(do_not_call_me):\n",
    "    def add_10():\n",
    "        print('Add 10')\n",
    "        x = do_not_call_me()\n",
    "        return 10 + x\n",
    "    return add_10\n",
    "\n",
    "@run_last\n",
    "@run_first\n",
    "def what_do_you_see():\n",
    "    return 5\n",
    "\n",
    "print(what_do_you_see())"
   ]
  },
  {
   "cell_type": "markdown",
   "id": "c5b4aa91",
   "metadata": {},
   "source": [
    "#### Decorator class (Callable classes)\n",
    "- The class constructor must accept the target function as a parameter\n",
    "- \\_\\_call\\_\\_() instance method accepts the same parematers as that of target and is the place to write the decorator logic\n",
    "- Such classes are called as Callable classes\n",
    "\n",
    "Decorator class allows us to implement the login in an Object oriented manner"
   ]
  },
  {
   "cell_type": "code",
   "execution_count": 58,
   "id": "85c0ea5f",
   "metadata": {},
   "outputs": [],
   "source": [
    "class NumberCheck:\n",
    "    def __init__(self, target):\n",
    "        self.target = target\n",
    "    \n",
    "    def __call__(self, *args):\n",
    "        # invoke the target and return the result in case args is not Empty and all values must be numbers (int and float)\n",
    "        # else raise an Error (can be TypeError)\n",
    "    \n",
    "        list1 = [type(ele) in (int,float) for ele in args]\n",
    "        \n",
    "        if list1 and all(list1):\n",
    "            return self.target(*args)\n",
    "        else:\n",
    "            raise TypeError('Either there are no parameters OR at least one of them is NaN')\n",
    "#--------------------------------------------------------------------\n",
    "@NumberCheck\n",
    "def add(*args):\n",
    "    return sum(args)"
   ]
  },
  {
   "cell_type": "code",
   "execution_count": 54,
   "id": "0b971018",
   "metadata": {},
   "outputs": [
    {
     "name": "stdout",
     "output_type": "stream",
     "text": [
      "6.141500000000001\n"
     ]
    }
   ],
   "source": [
    "try:\n",
    "    print(add(1, 2, 3.1415))\n",
    "except Exception as e:\n",
    "    print(e.args[0])"
   ]
  },
  {
   "cell_type": "code",
   "execution_count": 59,
   "id": "200ff6bb",
   "metadata": {},
   "outputs": [
    {
     "name": "stdout",
     "output_type": "stream",
     "text": [
      "Either there are no parameters OR at least one of them is NaN\n"
     ]
    }
   ],
   "source": [
    "try:\n",
    "    print(add(1, '2', 3.1415))\n",
    "except Exception as e:\n",
    "    print(e.args[0])"
   ]
  },
  {
   "cell_type": "markdown",
   "id": "3c55f093",
   "metadata": {},
   "source": [
    "#### Decorate a Lambda"
   ]
  },
  {
   "cell_type": "code",
   "execution_count": 63,
   "id": "f06ded0e",
   "metadata": {},
   "outputs": [
    {
     "name": "stdout",
     "output_type": "stream",
     "text": [
      "Either there are no parameters OR at least one of them is NaN\n"
     ]
    }
   ],
   "source": [
    "add = NumberCheck(lambda *args : sum(args))\n",
    "\n",
    "try:\n",
    "    print(add())\n",
    "except Exception as e:\n",
    "    print(e.args[0])"
   ]
  }
 ],
 "metadata": {
  "kernelspec": {
   "display_name": "Python 3 (ipykernel)",
   "language": "python",
   "name": "python3"
  },
  "language_info": {
   "codemirror_mode": {
    "name": "ipython",
    "version": 3
   },
   "file_extension": ".py",
   "mimetype": "text/x-python",
   "name": "python",
   "nbconvert_exporter": "python",
   "pygments_lexer": "ipython3",
   "version": "3.11.0"
  }
 },
 "nbformat": 4,
 "nbformat_minor": 5
}
