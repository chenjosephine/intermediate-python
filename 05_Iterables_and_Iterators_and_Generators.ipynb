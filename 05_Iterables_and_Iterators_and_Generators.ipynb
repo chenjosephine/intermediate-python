{
 "cells": [
  {
   "cell_type": "markdown",
   "id": "443729d8",
   "metadata": {},
   "source": [
    "#### Container\n",
    "- Data structure which holds elements\n",
    "- Supports membership testing\n",
    "- Operators are 'in' and 'not in'\n",
    "- Any object which can be asked whether it contains a certain elements is qualified as a Container\n",
    "- Example - str, list, tuple, dict"
   ]
  },
  {
   "cell_type": "code",
   "execution_count": 1,
   "id": "fb58f8ce",
   "metadata": {},
   "outputs": [
    {
     "data": {
      "text/plain": [
       "True"
      ]
     },
     "execution_count": 1,
     "metadata": {},
     "output_type": "execute_result"
    }
   ],
   "source": [
    "'P' in 'Python'"
   ]
  },
  {
   "cell_type": "code",
   "execution_count": 2,
   "id": "5acb3654",
   "metadata": {},
   "outputs": [
    {
     "data": {
      "text/plain": [
       "True"
      ]
     },
     "execution_count": 2,
     "metadata": {},
     "output_type": "execute_result"
    }
   ],
   "source": [
    "'H' not in 'Python'"
   ]
  },
  {
   "cell_type": "code",
   "execution_count": 3,
   "id": "92109f71",
   "metadata": {},
   "outputs": [
    {
     "data": {
      "text/plain": [
       "True"
      ]
     },
     "execution_count": 3,
     "metadata": {},
     "output_type": "execute_result"
    }
   ],
   "source": [
    "1 in [1,2,3,4,5]"
   ]
  },
  {
   "cell_type": "code",
   "execution_count": 4,
   "id": "85aec4f0",
   "metadata": {},
   "outputs": [
    {
     "data": {
      "text/plain": [
       "True"
      ]
     },
     "execution_count": 4,
     "metadata": {},
     "output_type": "execute_result"
    }
   ],
   "source": [
    "'Like' in ('I', 'Like', 'Python')"
   ]
  },
  {
   "cell_type": "code",
   "execution_count": 5,
   "id": "7cd3bd1b",
   "metadata": {},
   "outputs": [
    {
     "data": {
      "text/plain": [
       "True"
      ]
     },
     "execution_count": 5,
     "metadata": {},
     "output_type": "execute_result"
    }
   ],
   "source": [
    "'Name' in {'Name':'John', 'Age':21} # search the keys"
   ]
  },
  {
   "cell_type": "code",
   "execution_count": 7,
   "id": "cd0fda0f",
   "metadata": {},
   "outputs": [
    {
     "data": {
      "text/plain": [
       "True"
      ]
     },
     "execution_count": 7,
     "metadata": {},
     "output_type": "execute_result"
    }
   ],
   "source": [
    "'John' in {'Name':'John', 'Age':21}.values()"
   ]
  },
  {
   "cell_type": "markdown",
   "id": "fcf083c6",
   "metadata": {},
   "source": [
    "#### Iterables\n",
    "- Any object that can return an Iterator (not necessary that the object should be a data structure)\n",
    "- \\_\\_iter\\_\\_() method returns an Iterator of the Iterable\n",
    "- Any object that has \\_\\_iter\\_\\_() method is Iterable\n",
    "- Files and Sockets are iterables as well (even though they are not data structures like list/tuple)"
   ]
  },
  {
   "cell_type": "code",
   "execution_count": 8,
   "id": "41e48140",
   "metadata": {},
   "outputs": [
    {
     "name": "stdout",
     "output_type": "stream",
     "text": [
      "<class 'list_iterator'>\n"
     ]
    }
   ],
   "source": [
    "list1 = [1,2,3]\n",
    "iter1 = list1.__iter__() # since list has __iter__() method, it is qualified as an iterable object\n",
    "print(type(iter1))"
   ]
  },
  {
   "cell_type": "code",
   "execution_count": 9,
   "id": "d72106c9",
   "metadata": {},
   "outputs": [
    {
     "name": "stdout",
     "output_type": "stream",
     "text": [
      "<class 'list_iterator'>\n"
     ]
    }
   ],
   "source": [
    "iter2 = iter(list1) # Another way to get an Iterator from an Iterable\n",
    "print(type(iter2))"
   ]
  },
  {
   "cell_type": "markdown",
   "id": "605739bd",
   "metadata": {},
   "source": [
    "#### Iterator\n",
    "- It is a stateful object that produces the next value when we call \\_\\_next\\_\\_() method OR next(iterator)\n",
    "- Any object that has \\_\\_next\\_\\_() method is an Iterator\n",
    "- How it produces the next value is irrelavant to us (unless we want to write our own Iterator)\n",
    "- Iterator is a kind of value factory"
   ]
  },
  {
   "cell_type": "code",
   "execution_count": 10,
   "id": "c99a37a8",
   "metadata": {},
   "outputs": [],
   "source": [
    "list1 = [1, 2 ,3]\n",
    "iter1 = list1.__iter__()"
   ]
  },
  {
   "cell_type": "code",
   "execution_count": 14,
   "id": "45a51dee",
   "metadata": {},
   "outputs": [
    {
     "ename": "StopIteration",
     "evalue": "",
     "output_type": "error",
     "traceback": [
      "\u001b[0;31m---------------------------------------------------------------------------\u001b[0m",
      "\u001b[0;31mStopIteration\u001b[0m                             Traceback (most recent call last)",
      "Cell \u001b[0;32mIn[14], line 1\u001b[0m\n\u001b[0;32m----> 1\u001b[0m \u001b[43miter1\u001b[49m\u001b[38;5;241;43m.\u001b[39;49m\u001b[38;5;21;43m__next__\u001b[39;49m\u001b[43m(\u001b[49m\u001b[43m)\u001b[49m\n",
      "\u001b[0;31mStopIteration\u001b[0m: "
     ]
    }
   ],
   "source": [
    "iter1.__next__()"
   ]
  },
  {
   "cell_type": "code",
   "execution_count": 15,
   "id": "bf264fbb",
   "metadata": {},
   "outputs": [],
   "source": [
    "iter2 = iter(list1)"
   ]
  },
  {
   "cell_type": "code",
   "execution_count": 19,
   "id": "3c38123d",
   "metadata": {},
   "outputs": [
    {
     "ename": "StopIteration",
     "evalue": "",
     "output_type": "error",
     "traceback": [
      "\u001b[0;31m---------------------------------------------------------------------------\u001b[0m",
      "\u001b[0;31mStopIteration\u001b[0m                             Traceback (most recent call last)",
      "Cell \u001b[0;32mIn[19], line 1\u001b[0m\n\u001b[0;32m----> 1\u001b[0m \u001b[38;5;28;43mnext\u001b[39;49m\u001b[43m(\u001b[49m\u001b[43miter2\u001b[49m\u001b[43m)\u001b[49m\n",
      "\u001b[0;31mStopIteration\u001b[0m: "
     ]
    }
   ],
   "source": [
    "next(iter2)"
   ]
  },
  {
   "cell_type": "code",
   "execution_count": 20,
   "id": "46cea05a",
   "metadata": {},
   "outputs": [
    {
     "name": "stdout",
     "output_type": "stream",
     "text": [
      "1\n",
      "2\n",
      "3\n"
     ]
    }
   ],
   "source": [
    "# the for loop internally uses the iterator provided by the iterable (list1 is iterable in our case)\n",
    "for ele in list1:\n",
    "    print(ele)"
   ]
  },
  {
   "cell_type": "markdown",
   "id": "bb6a01a8",
   "metadata": {},
   "source": [
    "**Implement the behavior of the 'for loop' using the while loop and the Iterator**"
   ]
  },
  {
   "cell_type": "code",
   "execution_count": 21,
   "id": "78ba05e2",
   "metadata": {},
   "outputs": [
    {
     "name": "stdout",
     "output_type": "stream",
     "text": [
      "1\n",
      "2\n",
      "3\n"
     ]
    }
   ],
   "source": [
    "iter1 = list1.__iter__()\n",
    "\n",
    "try:\n",
    "    while True:\n",
    "        print(iter1.__next__())\n",
    "except StopIteration:\n",
    "    pass"
   ]
  },
  {
   "cell_type": "code",
   "execution_count": 22,
   "id": "5f739ac7",
   "metadata": {},
   "outputs": [
    {
     "name": "stdout",
     "output_type": "stream",
     "text": [
      "1\n",
      "2\n",
      "3\n"
     ]
    }
   ],
   "source": [
    "iter2 = iter(list1)\n",
    "\n",
    "try:\n",
    "    while True:\n",
    "        print(next(iter2))\n",
    "except StopIteration:\n",
    "    pass"
   ]
  },
  {
   "cell_type": "markdown",
   "id": "870fdb8c",
   "metadata": {},
   "source": [
    "#### Let's build our own Iterator"
   ]
  },
  {
   "cell_type": "code",
   "execution_count": 25,
   "id": "03fa918d",
   "metadata": {},
   "outputs": [
    {
     "name": "stdout",
     "output_type": "stream",
     "text": [
      "0  1  1  2  3  5  8  13  21  34  55  89  144  233  377  610  987  1597  "
     ]
    }
   ],
   "source": [
    "class Fibonacci:\n",
    "    def __init__(self, max):\n",
    "        self.max = max\n",
    "        self.prev = 0\n",
    "        self.next = 1\n",
    "        \n",
    "    def __iter__(self):\n",
    "        return self   # the object is its own Iterator\n",
    "\n",
    "    def __next__(self):\n",
    "        value = self.prev\n",
    "        self.prev = self.prev + self.next\n",
    "        self.next = value\n",
    "        \n",
    "        if value > self.max:\n",
    "            raise StopIteration()\n",
    "            \n",
    "        return value\n",
    "#-------------------------------------\n",
    "\n",
    "f = Fibonacci(2000)\n",
    "\n",
    "for value in f:\n",
    "    print(value, end='  ')"
   ]
  },
  {
   "cell_type": "code",
   "execution_count": 27,
   "id": "43fbf703",
   "metadata": {},
   "outputs": [
    {
     "name": "stdout",
     "output_type": "stream",
     "text": [
      "0  1  1  2  3  5  8  13  21  34  55  89  144  233  377  610  987  1597  "
     ]
    }
   ],
   "source": [
    "f = Fibonacci(2000)\n",
    "\n",
    "iter1 = f.__iter__()\n",
    "\n",
    "try:\n",
    "    while True:\n",
    "        print(iter1.__next__(), end='  ')\n",
    "except StopIteration:\n",
    "    pass"
   ]
  },
  {
   "cell_type": "markdown",
   "id": "9baa9f91",
   "metadata": {},
   "source": [
    "#### Generators\n",
    "- A Generator allows us to write code which behaves like an Iterator without methods like \\_\\_iter\\_\\_() and \\_\\_next\\_\\_()\n",
    "- Every Generator is an iterator (but not the vice-versa)\n",
    "- Two types of Generators\n",
    "    - Generator function\n",
    "    - Generator expression"
   ]
  },
  {
   "cell_type": "code",
   "execution_count": 28,
   "id": "75562e2c",
   "metadata": {},
   "outputs": [
    {
     "name": "stdout",
     "output_type": "stream",
     "text": [
      "1\n",
      "Python\n",
      "3.1415\n"
     ]
    }
   ],
   "source": [
    "def simple_generator():\n",
    "    yield 1\n",
    "    yield 'Python'\n",
    "    yield 3.1415\n",
    "#-------------------------\n",
    "\n",
    "for value in simple_generator():\n",
    "    print(value)"
   ]
  },
  {
   "cell_type": "markdown",
   "id": "c71e247e",
   "metadata": {},
   "source": [
    "**Write a generator function which generates the specified number of odd numbers (how_many is a parameter) from start number(start is a parameter)**"
   ]
  },
  {
   "cell_type": "code",
   "execution_count": 29,
   "id": "346de40a",
   "metadata": {},
   "outputs": [
    {
     "name": "stdout",
     "output_type": "stream",
     "text": [
      "11\n",
      "13\n",
      "15\n",
      "17\n",
      "19\n",
      "21\n"
     ]
    }
   ],
   "source": [
    "def odd_generator(start, how_many):\n",
    "    count = 0\n",
    "    \n",
    "    while count < how_many:\n",
    "        if start % 2 != 0:\n",
    "            count += 1\n",
    "            yield start\n",
    "        start += 1\n",
    "#-----------------------------------\n",
    "\n",
    "for value in odd_generator(11, 6):\n",
    "    print(value)"
   ]
  },
  {
   "cell_type": "code",
   "execution_count": 30,
   "id": "ed9ea1aa",
   "metadata": {},
   "outputs": [
    {
     "name": "stdout",
     "output_type": "stream",
     "text": [
      "5\n",
      "7\n",
      "9\n",
      "11\n",
      "13\n",
      "15\n",
      "17\n",
      "19\n",
      "21\n",
      "23\n"
     ]
    }
   ],
   "source": [
    "for value in odd_generator(4, 10):\n",
    "    print(value)"
   ]
  },
  {
   "cell_type": "markdown",
   "id": "a93d43ea",
   "metadata": {},
   "source": [
    "#### Generator function assignment\n",
    "- Implement Fibonacci sequence as a generator function rather than as an Iterator\n",
    "\n",
    "for example:\n",
    "\n",
    "> for value in fibonacci(1000):\n",
    ">>    print(value)"
   ]
  },
  {
   "cell_type": "markdown",
   "id": "48cef113",
   "metadata": {},
   "source": [
    "#### Generator expression"
   ]
  },
  {
   "cell_type": "code",
   "execution_count": 38,
   "id": "2db8427a",
   "metadata": {},
   "outputs": [
    {
     "name": "stdout",
     "output_type": "stream",
     "text": [
      "<class 'list'>\n",
      "[1, 4, 9, 16, 25, 36, 49, 64, 81, 100]\n"
     ]
    }
   ],
   "source": [
    "obj = [num ** 2 for num in range(1,11)]  # list comprehension\n",
    "print(type(obj))\n",
    "print(obj)"
   ]
  },
  {
   "cell_type": "code",
   "execution_count": 39,
   "id": "f694da07",
   "metadata": {},
   "outputs": [
    {
     "name": "stdout",
     "output_type": "stream",
     "text": [
      "<class 'set'>\n",
      "{64, 1, 4, 36, 100, 9, 16, 49, 81, 25}\n"
     ]
    }
   ],
   "source": [
    "obj = {num ** 2 for num in range(1,11)}  # set comprehension\n",
    "print(type(obj))\n",
    "print(obj)"
   ]
  },
  {
   "cell_type": "code",
   "execution_count": 40,
   "id": "af30fe57",
   "metadata": {},
   "outputs": [
    {
     "name": "stdout",
     "output_type": "stream",
     "text": [
      "<class 'dict'>\n",
      "{1: 1, 2: 4, 3: 9, 4: 16, 5: 25, 6: 36, 7: 49, 8: 64, 9: 81, 10: 100}\n"
     ]
    }
   ],
   "source": [
    "obj = {num: num ** 2 for num in range(1,11)}  # dictionary comprehension\n",
    "print(type(obj))\n",
    "print(obj)"
   ]
  },
  {
   "cell_type": "code",
   "execution_count": 42,
   "id": "916e472d",
   "metadata": {},
   "outputs": [
    {
     "name": "stdout",
     "output_type": "stream",
     "text": [
      "<class 'generator'>\n",
      "<generator object <genexpr> at 0x7f8e64fd6e90>\n"
     ]
    }
   ],
   "source": [
    "obj = (num ** 2 for num in range(1,11)) # Creates a Generator kind of an object, this is not tuple comprehension\n",
    "print(type(obj))\n",
    "print(obj)"
   ]
  },
  {
   "cell_type": "code",
   "execution_count": 43,
   "id": "6ce843f4",
   "metadata": {},
   "outputs": [
    {
     "name": "stdout",
     "output_type": "stream",
     "text": [
      "1\n",
      "4\n",
      "9\n",
      "16\n",
      "25\n",
      "36\n",
      "49\n",
      "64\n",
      "81\n",
      "100\n"
     ]
    }
   ],
   "source": [
    "for value in obj:\n",
    "    print(value)"
   ]
  },
  {
   "cell_type": "code",
   "execution_count": null,
   "id": "a01b7e8a",
   "metadata": {},
   "outputs": [],
   "source": []
  }
 ],
 "metadata": {
  "kernelspec": {
   "display_name": "Python 3 (ipykernel)",
   "language": "python",
   "name": "python3"
  },
  "language_info": {
   "codemirror_mode": {
    "name": "ipython",
    "version": 3
   },
   "file_extension": ".py",
   "mimetype": "text/x-python",
   "name": "python",
   "nbconvert_exporter": "python",
   "pygments_lexer": "ipython3",
   "version": "3.11.0"
  }
 },
 "nbformat": 4,
 "nbformat_minor": 5
}
