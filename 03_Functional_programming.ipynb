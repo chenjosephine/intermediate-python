{
 "cells": [
  {
   "cell_type": "markdown",
   "id": "3cb93ece",
   "metadata": {},
   "source": [
    "#### Functional programming"
   ]
  },
  {
   "cell_type": "markdown",
   "id": "30b7325a",
   "metadata": {},
   "source": [
    "#### Python functions\n",
    "1. Functions are \"first class\" objects, i.e. can be created at  runtime\n",
    "2. Can be assigned to a variable\n",
    "3. Can be passed as an argument to a another function\n",
    "4. Can be returned from a function"
   ]
  },
  {
   "cell_type": "code",
   "execution_count": 10,
   "id": "96eabfb2",
   "metadata": {},
   "outputs": [
    {
     "name": "stdout",
     "output_type": "stream",
     "text": [
      "Hello John\n",
      "15\n"
     ]
    }
   ],
   "source": [
    "def say_hello(*s):\n",
    "    return 'Hello ' + ''.join(s)\n",
    "\n",
    "def add(*args):\n",
    "    return sum(args)\n",
    "\n",
    "def print_result(func, a):\n",
    "    result = func(*a)\n",
    "    print(result)\n",
    "\n",
    "print_result(say_hello, 'John')    \n",
    "print_result(add, (1,2,3,4,5))"
   ]
  },
  {
   "cell_type": "markdown",
   "id": "3377ba33",
   "metadata": {},
   "source": [
    "#### Lambda functions\n",
    "- lambda keyword creates an anonymous function\n",
    "- lambda can accept parameters\n",
    "- lambda body is made up of an expression (only one expression)\n",
    "- lambda will return the result of expression evaluation"
   ]
  },
  {
   "cell_type": "code",
   "execution_count": 11,
   "id": "ef1db0f2",
   "metadata": {},
   "outputs": [
    {
     "data": {
      "text/plain": [
       "function"
      ]
     },
     "execution_count": 11,
     "metadata": {},
     "output_type": "execute_result"
    }
   ],
   "source": [
    "type(lambda num : num ** 2)"
   ]
  },
  {
   "cell_type": "code",
   "execution_count": 12,
   "id": "44ec5048",
   "metadata": {},
   "outputs": [
    {
     "data": {
      "text/plain": [
       "'<lambda>'"
      ]
     },
     "execution_count": 12,
     "metadata": {},
     "output_type": "execute_result"
    }
   ],
   "source": [
    "(lambda num : num ** 2).__name__"
   ]
  },
  {
   "cell_type": "code",
   "execution_count": 13,
   "id": "9648d71e",
   "metadata": {},
   "outputs": [
    {
     "data": {
      "text/plain": [
       "'<lambda>'"
      ]
     },
     "execution_count": 13,
     "metadata": {},
     "output_type": "execute_result"
    }
   ],
   "source": [
    "(lambda a,b : a + b).__name__"
   ]
  },
  {
   "cell_type": "code",
   "execution_count": 14,
   "id": "f5447121",
   "metadata": {},
   "outputs": [
    {
     "data": {
      "text/plain": [
       "25"
      ]
     },
     "execution_count": 14,
     "metadata": {},
     "output_type": "execute_result"
    }
   ],
   "source": [
    "(lambda num : num ** 2)(5)"
   ]
  },
  {
   "cell_type": "code",
   "execution_count": 15,
   "id": "08562e30",
   "metadata": {},
   "outputs": [
    {
     "data": {
      "text/plain": [
       "100"
      ]
     },
     "execution_count": 15,
     "metadata": {},
     "output_type": "execute_result"
    }
   ],
   "source": [
    "(lambda num : num ** 2)(10)"
   ]
  },
  {
   "cell_type": "code",
   "execution_count": 16,
   "id": "3679e947",
   "metadata": {},
   "outputs": [
    {
     "data": {
      "text/plain": [
       "25"
      ]
     },
     "execution_count": 16,
     "metadata": {},
     "output_type": "execute_result"
    }
   ],
   "source": [
    "sqr = lambda num : num ** 2\n",
    "\n",
    "sqr(5)"
   ]
  },
  {
   "cell_type": "code",
   "execution_count": 17,
   "id": "42445d7a",
   "metadata": {},
   "outputs": [
    {
     "data": {
      "text/plain": [
       "100"
      ]
     },
     "execution_count": 17,
     "metadata": {},
     "output_type": "execute_result"
    }
   ],
   "source": [
    "sqr(10)"
   ]
  },
  {
   "cell_type": "code",
   "execution_count": 20,
   "id": "7a71962c",
   "metadata": {},
   "outputs": [
    {
     "data": {
      "text/plain": [
       "5"
      ]
     },
     "execution_count": 20,
     "metadata": {},
     "output_type": "execute_result"
    }
   ],
   "source": [
    "add = lambda a,b : a+b\n",
    "add(2,3)"
   ]
  },
  {
   "cell_type": "code",
   "execution_count": 21,
   "id": "b4605976",
   "metadata": {},
   "outputs": [],
   "source": [
    "add = lambda *args : sum(args)"
   ]
  },
  {
   "cell_type": "code",
   "execution_count": 22,
   "id": "667516d4",
   "metadata": {},
   "outputs": [
    {
     "data": {
      "text/plain": [
       "5"
      ]
     },
     "execution_count": 22,
     "metadata": {},
     "output_type": "execute_result"
    }
   ],
   "source": [
    "add(2,3)"
   ]
  },
  {
   "cell_type": "code",
   "execution_count": 23,
   "id": "14be7217",
   "metadata": {},
   "outputs": [
    {
     "data": {
      "text/plain": [
       "15"
      ]
     },
     "execution_count": 23,
     "metadata": {},
     "output_type": "execute_result"
    }
   ],
   "source": [
    "add(1,2,3,4,5)"
   ]
  },
  {
   "cell_type": "markdown",
   "id": "325ffb81",
   "metadata": {},
   "source": [
    "#### Higher-order function\n",
    "- A function which accepts another function as a parameter OR returns a function as a return value \n",
    "- Built-in Higher order functions \n",
    "    - map()\n",
    "    - reduce()\n",
    "    - filter()"
   ]
  },
  {
   "cell_type": "markdown",
   "id": "a30c6c2d",
   "metadata": {},
   "source": [
    "#### map()\n",
    "- Purpose of map() is to apply transformation to input elements\n",
    "- Syntax --> map(func, iterable), returns a map object which can be used for creating an iterable having transformed values\n",
    "- The func is invoked for each value present in the iterable parameter and returns the transformed values\n",
    "- Number of output elements is same as that of input elements"
   ]
  },
  {
   "cell_type": "code",
   "execution_count": 27,
   "id": "a6cf737b",
   "metadata": {},
   "outputs": [
    {
     "name": "stdout",
     "output_type": "stream",
     "text": [
      "[1, 2, 3, 4, 5, 6, 7, 8, 9, 10]\n",
      "[1, 4, 9, 16, 25, 36, 49, 64, 81, 100]\n"
     ]
    }
   ],
   "source": [
    "list1 = [1, 2, 3, 4, 5, 6, 7, 8, 9, 10]\n",
    "\n",
    "list2 = list(map(lambda num : num ** 2, list1)) # sqr is the lambda defined above\n",
    "\n",
    "print(list1)\n",
    "print(list2)"
   ]
  },
  {
   "cell_type": "code",
   "execution_count": 31,
   "id": "75d9e051",
   "metadata": {},
   "outputs": [
    {
     "data": {
      "text/plain": [
       "(2, 4, 6)"
      ]
     },
     "execution_count": 31,
     "metadata": {},
     "output_type": "execute_result"
    }
   ],
   "source": [
    "tuple(map(lambda x : x * 2, [1,2,3]))"
   ]
  },
  {
   "cell_type": "code",
   "execution_count": 32,
   "id": "cce43301",
   "metadata": {},
   "outputs": [
    {
     "data": {
      "text/plain": [
       "('PP', 'yy', 'tt', 'hh', 'oo', 'nn')"
      ]
     },
     "execution_count": 32,
     "metadata": {},
     "output_type": "execute_result"
    }
   ],
   "source": [
    "tuple(map(lambda x : x * 2, 'Python')) # string is the iterable input"
   ]
  },
  {
   "cell_type": "code",
   "execution_count": 34,
   "id": "08718828",
   "metadata": {},
   "outputs": [
    {
     "data": {
      "text/plain": [
       "['PythonPython']"
      ]
     },
     "execution_count": 34,
     "metadata": {},
     "output_type": "execute_result"
    }
   ],
   "source": [
    "list(map(lambda x : x * 2, ['Python'])) # list is the iterable input"
   ]
  },
  {
   "cell_type": "code",
   "execution_count": 40,
   "id": "76be91d1",
   "metadata": {},
   "outputs": [
    {
     "data": {
      "text/plain": [
       "[5, 7, 9]"
      ]
     },
     "execution_count": 40,
     "metadata": {},
     "output_type": "execute_result"
    }
   ],
   "source": [
    "number1 = [1, 2, 3]\n",
    "number2 = [4, 5, 6]\n",
    "\n",
    "result = map(lambda x,y : x+y, number1, number2)\n",
    "list(result)"
   ]
  },
  {
   "cell_type": "markdown",
   "id": "a59ffbc1",
   "metadata": {},
   "source": [
    "**Using map() function, transform Fahrenheit to Celcius**"
   ]
  },
  {
   "cell_type": "code",
   "execution_count": 44,
   "id": "6a0527cf",
   "metadata": {},
   "outputs": [
    {
     "name": "stdout",
     "output_type": "stream",
     "text": [
      "[70, 75, 80, 85, 90, 95, 98.6, 100]\n",
      "[21.11, 23.89, 26.67, 29.44, 32.22, 35.0, 37.0, 37.78]\n"
     ]
    }
   ],
   "source": [
    "temp_in_f = [70, 75, 80, 85, 90, 95, 98.6, 100]\n",
    "\n",
    "temp_in_c = list(map(lambda f : round((f-32)*(5/9),2), temp_in_f))\n",
    "\n",
    "print(temp_in_f)\n",
    "print(temp_in_c)"
   ]
  },
  {
   "cell_type": "markdown",
   "id": "6f0a1dcf",
   "metadata": {},
   "source": [
    "#### reduce() function\n",
    "- Producing a single result from a sequence of any number of elements\n",
    "- Syntax reduce(func, iterable) --> return a single value\n",
    "- The function would be applied to the input elements to compute a single value\n",
    "- Part of functools module which needs to be imported"
   ]
  },
  {
   "cell_type": "code",
   "execution_count": 1,
   "id": "f40a088a",
   "metadata": {},
   "outputs": [],
   "source": [
    "from functools import reduce"
   ]
  },
  {
   "cell_type": "code",
   "execution_count": 2,
   "id": "d5684000",
   "metadata": {},
   "outputs": [
    {
     "data": {
      "text/plain": [
       "15"
      ]
     },
     "execution_count": 2,
     "metadata": {},
     "output_type": "execute_result"
    }
   ],
   "source": [
    "list1 = [1, 2, 3, 4, 5]\n",
    "reduce(lambda a,b : a + b, list1)"
   ]
  },
  {
   "cell_type": "code",
   "execution_count": 8,
   "id": "28ae85d0",
   "metadata": {},
   "outputs": [
    {
     "data": {
      "text/plain": [
       "13"
      ]
     },
     "execution_count": 8,
     "metadata": {},
     "output_type": "execute_result"
    }
   ],
   "source": [
    "def get_larger(a,b):\n",
    "    if a > b:\n",
    "        return a\n",
    "    else:\n",
    "        return b\n",
    "\n",
    "list1 = [11, 7, 5, 9, 13, 3]\n",
    "\n",
    "reduce(get_larger, list1)"
   ]
  },
  {
   "cell_type": "code",
   "execution_count": 9,
   "id": "e86cf15d",
   "metadata": {},
   "outputs": [
    {
     "data": {
      "text/plain": [
       "3"
      ]
     },
     "execution_count": 9,
     "metadata": {},
     "output_type": "execute_result"
    }
   ],
   "source": [
    "reduce(lambda a, b : a if a < b else b, list1)"
   ]
  },
  {
   "cell_type": "markdown",
   "id": "ec485a36",
   "metadata": {},
   "source": [
    "#### filter() function\n",
    "- Syntax --> filter(func, iterable)\n",
    "- filter() is used for eliminating unwanted values\n",
    "- Function is invoked for each element present in the iterable\n",
    "- Function used for filter() must return boolean value\n",
    "- The result object contains only those elements for which the function returns True\n",
    "- map() transforms whereas filter() will eliminate unwanted values\n",
    "- Number of output elements may or may not be same as number of input elements"
   ]
  },
  {
   "cell_type": "code",
   "execution_count": 11,
   "id": "3f2977b4",
   "metadata": {},
   "outputs": [
    {
     "data": {
      "text/plain": [
       "[2, 4, 6, 8, 10]"
      ]
     },
     "execution_count": 11,
     "metadata": {},
     "output_type": "execute_result"
    }
   ],
   "source": [
    "list1 = [1, 2, 4, 3, 6, 5, 9, 8, 7, 10]\n",
    "list(filter(lambda x : x % 2 == 0, list1))"
   ]
  },
  {
   "cell_type": "markdown",
   "id": "dd7affa4",
   "metadata": {},
   "source": [
    "**Extract unique vowels preesnt in a string**\n",
    "- case sensitive\n",
    "- case insensitive"
   ]
  },
  {
   "cell_type": "code",
   "execution_count": 12,
   "id": "8069a0d8",
   "metadata": {},
   "outputs": [
    {
     "data": {
      "text/plain": [
       "{'I', 'a', 'e', 'i', 'o', 'u'}"
      ]
     },
     "execution_count": 12,
     "metadata": {},
     "output_type": "execute_result"
    }
   ],
   "source": [
    "# case sensitive\n",
    "s1 = 'It is a beautiful day out there'\n",
    "is_vowel = lambda ch : ch in 'aeiouAEIOU'\n",
    "set(filter(is_vowel, s1))"
   ]
  },
  {
   "cell_type": "code",
   "execution_count": 15,
   "id": "5e44f9b5",
   "metadata": {},
   "outputs": [
    {
     "data": {
      "text/plain": [
       "{'a', 'e', 'i', 'o', 'u'}"
      ]
     },
     "execution_count": 15,
     "metadata": {},
     "output_type": "execute_result"
    }
   ],
   "source": [
    "# case in-sensitive\n",
    "s1 = 'It is a beautiful day out there'\n",
    "\n",
    "is_vowel = lambda ch : ch in 'aeiou'\n",
    "\n",
    "set(filter(is_vowel, s1.lower()))"
   ]
  },
  {
   "cell_type": "code",
   "execution_count": 19,
   "id": "95d799fc",
   "metadata": {},
   "outputs": [
    {
     "data": {
      "text/plain": [
       "set()"
      ]
     },
     "execution_count": 19,
     "metadata": {},
     "output_type": "execute_result"
    }
   ],
   "source": [
    "s1 = 'Rhytm'\n",
    "is_vowel = lambda ch : ch in 'aeiouAEIOU'\n",
    "set(filter(is_vowel, s1))"
   ]
  },
  {
   "cell_type": "code",
   "execution_count": 28,
   "id": "125211ef",
   "metadata": {},
   "outputs": [
    {
     "data": {
      "text/plain": [
       "'2024'"
      ]
     },
     "execution_count": 28,
     "metadata": {},
     "output_type": "execute_result"
    }
   ],
   "source": [
    "# Extract the digits from a string and frame a new number out of it\n",
    "s1 = 'Py2t0h2on4'\n",
    "is_digit = lambda ch : ch.isnumeric()\n",
    "\n",
    "list1 = list(filter(is_digit, s1))\n",
    "s2 = ''.join(list1)\n",
    "s2"
   ]
  },
  {
   "cell_type": "code",
   "execution_count": 29,
   "id": "b154b641",
   "metadata": {},
   "outputs": [
    {
     "name": "stdout",
     "output_type": "stream",
     "text": [
      "2024\n"
     ]
    }
   ],
   "source": [
    "print(int(s2))"
   ]
  },
  {
   "cell_type": "code",
   "execution_count": 38,
   "id": "bf19c6c8",
   "metadata": {},
   "outputs": [
    {
     "data": {
      "text/plain": [
       "['city1', 'country1', 'city2', 'country2', 'city3', 'country3']"
      ]
     },
     "execution_count": 38,
     "metadata": {},
     "output_type": "execute_result"
    }
   ],
   "source": [
    "# get those items from strings which have any substring present in them\n",
    "\n",
    "strings = ['city1','state1','country1','city2','state2','country2','city3','state3','country3']\n",
    "\n",
    "substring = ['city','country']\n",
    "\n",
    "contains_substring = lambda x : any(sub in x for sub in substring)\n",
    "\n",
    "list(filter(contains_substring, strings))"
   ]
  },
  {
   "cell_type": "code",
   "execution_count": 31,
   "id": "410f9bd7",
   "metadata": {},
   "outputs": [
    {
     "data": {
      "text/plain": [
       "False"
      ]
     },
     "execution_count": 31,
     "metadata": {},
     "output_type": "execute_result"
    }
   ],
   "source": [
    "# any / all\n",
    "\n",
    "any([False, False, False]) # returns True if any one of the element is True"
   ]
  },
  {
   "cell_type": "code",
   "execution_count": 33,
   "id": "2a1e9d0e",
   "metadata": {},
   "outputs": [
    {
     "data": {
      "text/plain": [
       "True"
      ]
     },
     "execution_count": 33,
     "metadata": {},
     "output_type": "execute_result"
    }
   ],
   "source": [
    "all([True, True, True]) # returns True if all the elements are True"
   ]
  }
 ],
 "metadata": {
  "kernelspec": {
   "display_name": "Python 3 (ipykernel)",
   "language": "python",
   "name": "python3"
  },
  "language_info": {
   "codemirror_mode": {
    "name": "ipython",
    "version": 3
   },
   "file_extension": ".py",
   "mimetype": "text/x-python",
   "name": "python",
   "nbconvert_exporter": "python",
   "pygments_lexer": "ipython3",
   "version": "3.11.0"
  }
 },
 "nbformat": 4,
 "nbformat_minor": 5
}
