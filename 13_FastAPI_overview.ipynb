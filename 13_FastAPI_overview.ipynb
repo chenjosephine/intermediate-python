{
 "cells": [
  {
   "cell_type": "markdown",
   "metadata": {
    "slideshow": {
     "slide_type": "slide"
    }
   },
   "source": [
    "### FastAPI\n",
    "\n",
    "* FastAPI is a modern, fast (high-performance), web framework for building APIs with Python 3.7+\n",
    "    * pip install fastapi\n",
    "* You will also need an ASGI server, for production such as Uvicorn \n",
    "    * pip install uvicorn\n",
    "    \n",
    "https://fastapi.tiangolo.com/"
   ]
  },
  {
   "cell_type": "markdown",
   "metadata": {
    "slideshow": {
     "slide_type": "subslide"
    }
   },
   "source": [
    "Steps to follow:\n",
    "\n",
    "1) Create a file main.py \n",
    "2) Run the server \n",
    "    uvicorn main:app --reload\n",
    "3) In the browser enter the following\n",
    "http://localhost:8000\n",
    "\n",
    "4) To get interactive API docs enter the following in browser\n",
    "http://localhost:8000/docs\n"
   ]
  },
  {
   "cell_type": "code",
   "execution_count": null,
   "metadata": {},
   "outputs": [],
   "source": [
    "# main.py\n",
    "from typing import Union\n",
    "\n",
    "from fastapi import FastAPI\n",
    "from pydantic import BaseModel\n",
    "\n",
    "app = FastAPI()\n",
    "\n",
    "class Item(BaseModel):\n",
    "    name: str\n",
    "    price: float\n",
    "    is_offer: Union[bool, None] = None\n",
    "\n",
    "@app.get(\"/\")\n",
    "def read_root():\n",
    "    return {\"Hello\": \"World\"}\n",
    "\n",
    "@app.get(\"/items/{item_id}\")\n",
    "def read_item(item_id: int, q: Union[str, None] = None):\n",
    "    return {\"item_id\": item_id, \"q\": q}\n",
    "\n",
    "@app.put(\"/items/{item_id}\")\n",
    "def update_item(item_id: int, item: Item):\n",
    "    return {\"item_name\": item.name, \"item_id\": item_id}"
   ]
  },
  {
   "cell_type": "code",
   "execution_count": null,
   "metadata": {},
   "outputs": [],
   "source": [
    " !python -m uvicorn main:app --reload"
   ]
  }
 ],
 "metadata": {
  "celltoolbar": "Slideshow",
  "kernelspec": {
   "display_name": "Python 3 (ipykernel)",
   "language": "python",
   "name": "python3"
  },
  "language_info": {
   "codemirror_mode": {
    "name": "ipython",
    "version": 3
   },
   "file_extension": ".py",
   "mimetype": "text/x-python",
   "name": "python",
   "nbconvert_exporter": "python",
   "pygments_lexer": "ipython3",
   "version": "3.11.0"
  }
 },
 "nbformat": 4,
 "nbformat_minor": 1
}
